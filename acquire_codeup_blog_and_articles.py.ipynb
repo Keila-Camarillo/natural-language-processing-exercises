{
 "cells": [
  {
   "cell_type": "code",
   "execution_count": 41,
   "id": "96e2621b",
   "metadata": {},
   "outputs": [],
   "source": [
    "import requests\n",
    "from requests import get \n",
    "from bs4 import BeautifulSoup\n",
    "import pandas as pd\n",
    "\n",
    "import os\n",
    "from pprint import pprint \n",
    "\n",
    "import time\n",
    "import acquire as a"
   ]
  },
  {
   "cell_type": "markdown",
   "id": "e1d69d4e",
   "metadata": {},
   "source": [
    "1. Codeup Blog Articles\n",
    "\n",
    "Visit Codeup's Blog and record the urls for at least 5 distinct blog posts. For each post, you should scrape at least the post's title and content.\n",
    "\n",
    "Encapsulate your work in a function named get_blog_articles that will return a list of dictionaries, with each dictionary representing one article. The shape of each dictionary should look like this:\n",
    "\n",
    "Plus any additional properties you think might be helpful.\n",
    "\n",
    "Bonus: Scrape the text of all the articles linked on codeup's blog page."
   ]
  },
  {
   "cell_type": "code",
   "execution_count": 57,
   "id": "f216ba43",
   "metadata": {},
   "outputs": [
    {
     "data": {
      "text/html": [
       "<div>\n",
       "<style scoped>\n",
       "    .dataframe tbody tr th:only-of-type {\n",
       "        vertical-align: middle;\n",
       "    }\n",
       "\n",
       "    .dataframe tbody tr th {\n",
       "        vertical-align: top;\n",
       "    }\n",
       "\n",
       "    .dataframe thead th {\n",
       "        text-align: right;\n",
       "    }\n",
       "</style>\n",
       "<table border=\"1\" class=\"dataframe\">\n",
       "  <thead>\n",
       "    <tr style=\"text-align: right;\">\n",
       "      <th></th>\n",
       "      <th>title</th>\n",
       "      <th>content</th>\n",
       "      <th>category</th>\n",
       "    </tr>\n",
       "  </thead>\n",
       "  <tbody>\n",
       "    <tr>\n",
       "      <th>0</th>\n",
       "      <td>86% Indians feel voting should be made compuls...</td>\n",
       "      <td>[On the occasion of the 12th National Voters’ ...</td>\n",
       "      <td>[uncategorized]</td>\n",
       "    </tr>\n",
       "    <tr>\n",
       "      <th>1</th>\n",
       "      <td>43% say they kept their New Year’s resolution ...</td>\n",
       "      <td>[As 2021 draws to a close end, users of locati...</td>\n",
       "      <td>[uncategorized]</td>\n",
       "    </tr>\n",
       "    <tr>\n",
       "      <th>2</th>\n",
       "      <td>68% approve of Centre’s decision to withdraw f...</td>\n",
       "      <td>[While addressing the nation on November 19, P...</td>\n",
       "      <td>[uncategorized]</td>\n",
       "    </tr>\n",
       "    <tr>\n",
       "      <th>3</th>\n",
       "      <td>65% confident Dhoni will help improve India’s ...</td>\n",
       "      <td>[, The latest round of opinion polls conducted...</td>\n",
       "      <td>[uncategorized]</td>\n",
       "    </tr>\n",
       "    <tr>\n",
       "      <th>4</th>\n",
       "      <td>Festivities in the air but Indians still cauti...</td>\n",
       "      <td>[5th October 2021: With festive season being j...</td>\n",
       "      <td>[uncategorized]</td>\n",
       "    </tr>\n",
       "    <tr>\n",
       "      <th>5</th>\n",
       "      <td>72% confident that Covid-19 vaccines are safe ...</td>\n",
       "      <td>[In January 2021, India kicked off the world’s...</td>\n",
       "      <td>[announcements]</td>\n",
       "    </tr>\n",
       "    <tr>\n",
       "      <th>6</th>\n",
       "      <td>68% confident India will improve performance a...</td>\n",
       "      <td>[After a year-long delay, the Tokyo 2020 Olymp...</td>\n",
       "      <td>[announcements]</td>\n",
       "    </tr>\n",
       "    <tr>\n",
       "      <th>7</th>\n",
       "      <td>47% find Whatsapp’s updated privacy policy una...</td>\n",
       "      <td>[January 12, 2021With the debate raging over W...</td>\n",
       "      <td>[announcements]</td>\n",
       "    </tr>\n",
       "    <tr>\n",
       "      <th>8</th>\n",
       "      <td>COVID or no COVID: Indians are ready to unpaus...</td>\n",
       "      <td>[January 13, 2021As 2021 gets off to a shaky b...</td>\n",
       "      <td>[announcements]</td>\n",
       "    </tr>\n",
       "    <tr>\n",
       "      <th>9</th>\n",
       "      <td>Inshorts launches location-based social networ...</td>\n",
       "      <td>[National, January 08, 2020 – Location-based s...</td>\n",
       "      <td>[announcements]</td>\n",
       "    </tr>\n",
       "  </tbody>\n",
       "</table>\n",
       "</div>"
      ],
      "text/plain": [
       "                                               title  \\\n",
       "0  86% Indians feel voting should be made compuls...   \n",
       "1  43% say they kept their New Year’s resolution ...   \n",
       "2  68% approve of Centre’s decision to withdraw f...   \n",
       "3  65% confident Dhoni will help improve India’s ...   \n",
       "4  Festivities in the air but Indians still cauti...   \n",
       "5  72% confident that Covid-19 vaccines are safe ...   \n",
       "6  68% confident India will improve performance a...   \n",
       "7  47% find Whatsapp’s updated privacy policy una...   \n",
       "8  COVID or no COVID: Indians are ready to unpaus...   \n",
       "9  Inshorts launches location-based social networ...   \n",
       "\n",
       "                                             content         category  \n",
       "0  [On the occasion of the 12th National Voters’ ...  [uncategorized]  \n",
       "1  [As 2021 draws to a close end, users of locati...  [uncategorized]  \n",
       "2  [While addressing the nation on November 19, P...  [uncategorized]  \n",
       "3  [, The latest round of opinion polls conducted...  [uncategorized]  \n",
       "4  [5th October 2021: With festive season being j...  [uncategorized]  \n",
       "5  [In January 2021, India kicked off the world’s...  [announcements]  \n",
       "6  [After a year-long delay, the Tokyo 2020 Olymp...  [announcements]  \n",
       "7  [January 12, 2021With the debate raging over W...  [announcements]  \n",
       "8  [January 13, 2021As 2021 gets off to a shaky b...  [announcements]  \n",
       "9  [National, January 08, 2020 – Location-based s...  [announcements]  "
      ]
     },
     "execution_count": 57,
     "metadata": {},
     "output_type": "execute_result"
    }
   ],
   "source": [
    "pd.DataFrame(a.get_news_articles())"
   ]
  },
  {
   "cell_type": "code",
   "execution_count": 43,
   "id": "8c6b4bd7",
   "metadata": {},
   "outputs": [
    {
     "data": {
      "text/plain": [
       "<Response [200]>"
      ]
     },
     "execution_count": 43,
     "metadata": {},
     "output_type": "execute_result"
    }
   ],
   "source": [
    "# get response\n",
    "# to think I'm a real computer\n",
    "headers = {\"User-Agent\": \"Chrome/91.0.4472.124\"}\n",
    "\n",
    "url = 'https://codeup.com/blog/'\n",
    "response = get(url, headers=headers)\n",
    "response"
   ]
  },
  {
   "cell_type": "code",
   "execution_count": 44,
   "id": "e2aa7638",
   "metadata": {},
   "outputs": [
    {
     "name": "stdout",
     "output_type": "stream",
     "text": [
      "<!DOCTYPE html>\n",
      "<html lang=\"en-US\">\n",
      "<head>\n",
      "\t<meta charset=\"UTF-8\" />\n",
      "<meta http-equiv=\"X-UA-Compatible\" content=\"IE=edge\">\n",
      "\t<link rel=\"pingback\" href=\"https://codeup.com/xmlrpc.php\" />\n",
      "\n",
      "\t<script type=\"text/javascript\">\n",
      "\t\tdocument.documentElement.className = 'js';\n",
      "\t</script>\n",
      "\t\n",
      "\t<link rel=\"preconnect\" href=\"https://fonts.gstatic.com\" crossorigin /><script id=\"diviarea-loader\">window.DiviPopupData=wi\n"
     ]
    }
   ],
   "source": [
    "print(response.text[:400])"
   ]
  },
  {
   "cell_type": "code",
   "execution_count": 45,
   "id": "7653ef3e",
   "metadata": {},
   "outputs": [],
   "source": [
    "# Make a soup variable holding the response content\n",
    "soup = BeautifulSoup(response.content, 'html.parser')"
   ]
  },
  {
   "cell_type": "code",
   "execution_count": 46,
   "id": "31682e47",
   "metadata": {},
   "outputs": [
    {
     "data": {
      "text/plain": [
       "'Spotlight on APIDA Voices: Celebrating Heritage and Inspiring Change ft. Arbeena Thapa'"
      ]
     },
     "execution_count": 46,
     "metadata": {},
     "output_type": "execute_result"
    }
   ],
   "source": [
    "# 1st blog header title\n",
    "soup.h2.text"
   ]
  },
  {
   "cell_type": "code",
   "execution_count": 47,
   "id": "64324548",
   "metadata": {},
   "outputs": [],
   "source": [
    "# all paragraph elements\n",
    "list_of_p_elements = soup.find_all('p')\n"
   ]
  },
  {
   "cell_type": "code",
   "execution_count": 48,
   "id": "c8c36203",
   "metadata": {},
   "outputs": [
    {
     "data": {
      "text/plain": [
       "[<h2 class=\"entry-title\"><a href=\"https://codeup.com/featured/apida-heritage-month/\">Spotlight on APIDA Voices: Celebrating Heritage and Inspiring Change ft. Arbeena Thapa</a></h2>,\n",
       " <h2 class=\"entry-title\"><a href=\"https://codeup.com/featured/women-in-tech-panelist-spotlight/\">Women in tech: Panelist Spotlight – Magdalena Rahn</a></h2>,\n",
       " <h2 class=\"entry-title\"><a href=\"https://codeup.com/featured/women-in-tech-rachel-robbins-mayhill/\">Women in tech: Panelist Spotlight – Rachel Robbins-Mayhill</a></h2>,\n",
       " <h2 class=\"entry-title\"><a href=\"https://codeup.com/codeup-news/women-in-tech-panelist-spotlight-sarah-mellor/\">Women in Tech: Panelist Spotlight – Sarah Mellor</a></h2>,\n",
       " <h2 class=\"entry-title\"><a href=\"https://codeup.com/events/women-in-tech-madeleine/\">Women in Tech: Panelist Spotlight – Madeleine Capper</a></h2>,\n",
       " <h2 class=\"entry-title\"><a href=\"https://codeup.com/codeup-news/panelist-spotlight-4/\">Black Excellence in Tech: Panelist Spotlight – Wilmarie De La Cruz Mejia</a></h2>]"
      ]
     },
     "execution_count": 48,
     "metadata": {},
     "output_type": "execute_result"
    }
   ],
   "source": [
    "# class selector is denoted with '.' before the class name\n",
    "soup.select('.entry-title')"
   ]
  },
  {
   "cell_type": "code",
   "execution_count": 49,
   "id": "59731da5",
   "metadata": {},
   "outputs": [
    {
     "name": "stdout",
     "output_type": "stream",
     "text": [
      "https://codeup.com/featured/apida-heritage-month/\n",
      "https://codeup.com/featured/women-in-tech-panelist-spotlight/\n",
      "https://codeup.com/featured/women-in-tech-rachel-robbins-mayhill/\n",
      "https://codeup.com/codeup-news/women-in-tech-panelist-spotlight-sarah-mellor/\n",
      "https://codeup.com/events/women-in-tech-madeleine/\n",
      "https://codeup.com/codeup-news/panelist-spotlight-4/\n"
     ]
    }
   ],
   "source": [
    "# scrape blog homepgae for links\n",
    "blog_links = soup.find_all(\"a\", class_ = \"more-link\")\n",
    "for element in blog_links:\n",
    "    print(element[\"href\"])"
   ]
  },
  {
   "cell_type": "code",
   "execution_count": 50,
   "id": "81f7d7d9",
   "metadata": {},
   "outputs": [
    {
     "data": {
      "text/plain": [
       "'https://codeup.com/featured/apida-heritage-month/'"
      ]
     },
     "execution_count": 50,
     "metadata": {},
     "output_type": "execute_result"
    }
   ],
   "source": [
    "#parse 1st link only\n",
    "blog_links[0][\"href\"]"
   ]
  },
  {
   "cell_type": "code",
   "execution_count": 51,
   "id": "2d51ea6f",
   "metadata": {},
   "outputs": [
    {
     "name": "stdout",
     "output_type": "stream",
     "text": [
      "https://codeup.com/featured/apida-heritage-month/\n",
      "https://codeup.com/featured/women-in-tech-panelist-spotlight/\n",
      "https://codeup.com/featured/women-in-tech-rachel-robbins-mayhill/\n",
      "https://codeup.com/codeup-news/women-in-tech-panelist-spotlight-sarah-mellor/\n",
      "https://codeup.com/events/women-in-tech-madeleine/\n",
      "https://codeup.com/codeup-news/panelist-spotlight-4/\n"
     ]
    }
   ],
   "source": [
    "#parse aall links only\n",
    "for element in blog_links:\n",
    "    print(element[\"href\"])"
   ]
  },
  {
   "cell_type": "code",
   "execution_count": 53,
   "id": "d57289e2",
   "metadata": {},
   "outputs": [
    {
     "data": {
      "text/plain": [
       "['https://codeup.com/featured/apida-heritage-month/',\n",
       " 'https://codeup.com/featured/women-in-tech-panelist-spotlight/',\n",
       " 'https://codeup.com/featured/women-in-tech-rachel-robbins-mayhill/',\n",
       " 'https://codeup.com/codeup-news/women-in-tech-panelist-spotlight-sarah-mellor/',\n",
       " 'https://codeup.com/events/women-in-tech-madeleine/',\n",
       " 'https://codeup.com/codeup-news/panelist-spotlight-4/']"
      ]
     },
     "execution_count": 53,
     "metadata": {},
     "output_type": "execute_result"
    }
   ],
   "source": [
    "#put into list comprehension \n",
    "links_list = [element[\"href\"] for element in blog_links]\n",
    "links_list"
   ]
  },
  {
   "cell_type": "code",
   "execution_count": 56,
   "id": "c53d8e84",
   "metadata": {},
   "outputs": [],
   "source": [
    "article_dict = []\n",
    "for link in links_list:\n",
    "    # get access to pages\n",
    "    headers = {\"User-Agent\": \"Chrome/91.0.4472.124\"}\n",
    "    \n",
    "    response = get(link, headers=headers)\n",
    "    soup = BeautifulSoup(response.content, \"html.parser\")\n",
    "    # title\n",
    "    title = soup.h1.text\n",
    "\n",
    "    # content info\n",
    "    text_list = [p.get_text(strip=True) for div in soup.find_all(\"div\", class_=\"entry-content\") for p in div.find_all(\"p\")]\n",
    "    # append dict to list\n",
    "    content_dict = {\"title\": title, \n",
    "                    \"content\": text_list}\n",
    "    article_dict.append(content_dict)\n",
    "\n"
   ]
  },
  {
   "cell_type": "code",
   "execution_count": 7,
   "id": "3387b2c4",
   "metadata": {},
   "outputs": [],
   "source": [
    "def create_soup(url):\n",
    "    headers = {\"User-Agent\": \"Chrome/91.0.4472.124\"}\n",
    "\n",
    "    response = get(url, headers=headers)\n",
    "    return BeautifulSoup(response.content, 'html.parser')\n"
   ]
  },
  {
   "cell_type": "code",
   "execution_count": 62,
   "id": "1c130850",
   "metadata": {},
   "outputs": [
    {
     "data": {
      "text/plain": [
       "[{'title': 'Spotlight on APIDA Voices: Celebrating Heritage and Inspiring Change ft. Arbeena Thapa',\n",
       "  'content': '\\nMay is traditionally known as Asian American and Pacific Islander (AAPI) Heritage Month. This month we celebrate the history and contributions made possible by our AAPI friends, family, and community. We also examine our level of support and seek opportunities to better understand the AAPI community.\\n\\nIn an effort to address real concerns and experiences, we sat down with Arbeena Thapa, one of Codeup’s Financial Aid and Enrollment Managers.\\nArbeena identifies as Nepali American and Desi. Arbeena’s parents immigrated to Texas in 1988 for better employment and educational opportunities. Arbeena’s older sister was five when they made the move to the US. Arbeena was born later, becoming the first in her family to be a US citizen.\\nAt Codeup we take our efforts at inclusivity very seriously. After speaking with Arbeena, we were taught that the term AAPI excludes Desi-American individuals. Hence, we will now use the term Asian Pacific Islander Desi American (APIDA).\\nHere is how the rest of our conversation with Arbeena went!\\nHow do you celebrate or connect with your heritage and cultural traditions?\\n“I celebrate Nepal’s version of Christmas or Dashain. This is a nine-day celebration also known as Dussehra. I grew up as Hindu and I identify as Hindu, this is a very large part of my heritage. “\\n“Other ways I connect with my culture include sharing food! Momos are South Asian Dumplings and they’re my favorite to make and share.”\\n“On my Asian American side, I am an advocate of immigrant justice and erasure within APIDA social or political movements. I participate in events to embrace my identity such as immigrant justice advocacy because I come from a mixed-status family. I’ve always been in a community with undocumented Asian immigrants. .”\\nWhat are some of the challenges you have faced as an APIDA individual, personally or professionally?\\n“I often struggle with being gendered as compliant or a pushover. Professionally, I am often stereotyped as meek, so I’ve been overlooked for leadership roles. We are seen as perpetually foreign; people tend to other us in that way, yet put us on a pedestal for what a model minority looks like. This has made me hesitant to share my heritage in the past because these assumptions get mapped onto me. ”\\nCan you describe some common barriers of entry that APIDA individuals, specifically women may face when trying to enter or advance in the workplace?\\n“Being overlooked for leadership. In the past, I have not been viewed as a leader. People sometimes have preconceived stereotypes of Asian women not being able to be bold, or being vocal can be mistaken for being too emotional. “\\nHow do you believe microaggressions impact APIDA individuals in the workplace? Can you provide examples of such microaggressions?\\n“Erasure is big. To me, only saying ‘Merry Christmas’ isn’t inclusive to other religions. People are often resistant to saying ‘Happy Holidays,’ but saying Merry Christmas excludes, and does not appreciate my heritage. “\\n“Often microaggressions are not micro at all. They typically are not aggressive racialized violence, but the term ‘micro’ minimizes impact.”\\n“Some that I’ve heard are ‘What kind of Asian are you?’ or ‘Where are you from?’ This automatically makes me the ‘other’ and not seen as American. Even within the APIDA community, South Asians are overlooked as “Asian”.”\\nHow important is representation, specifically APIDA representation, in organizational leadership positions?\\n“I want to say that it is important to have someone who looks like you in leadership roles, and it is, but those leaders may not share the same beliefs as you. Certain privileges such as wealth, resources, or lack of interaction with lower-socioeconomic-status Asian Americans may cause a difference in community politics. I do not think the bamboo ceiling is acceptable, but the company you work for plays a big part in your politics and belief alignment.”\\nHow do you feel about code-switching, and have you ever felt it necessary to code-switch?\\n“I like sharing South Asian terms or connecting with others that have similar heritage and culture. A workplace that is welcoming to going into this sort of breakout is refreshing and makes space for us. However, having to code-switch could also mean a workplace that is not conducive and welcoming of other cultures. “\\nFinally, in your opinion, what long-term strategies can create lasting change in the workplace and ensure support, equality, and inclusion for APIDA individuals?\\n“Prior to a career in financial aid, I did a lot of research related to the post-9/11 immigration of the South Asian diaspora. This background made me heavily rely on grassroots organizing. Hire the people that want to innovate, hire the changemakers, hire the button-pushers. Reduce reliance on whiteness as change. This will become natural for the organization and become organizational change. Change comes from us on the ground.”\\nA huge thank you to Arbeena Thapa for sharing her experiences, and being vulnerable with us. Your words were inspiring and the opportunity to understand your perspective more has been valuable. We hope we can become better support for the APIDA community as we learn and grow on our journey of cultivating inclusive growth.\\n'},\n",
       " {'title': 'Women in tech: Panelist Spotlight – Magdalena Rahn',\n",
       "  'content': '\\nWomen in tech: Panelist Spotlight – Magdalena Rahn\\nCodeup is hosting a Women in Tech Panel in honor of Women’s History Month on March 29th, 2023! To further celebrate, we’d like to spotlight each of our panelists leading up to the discussion to learn a bit about their respective experiences as women in the tech industry!\\n\\nMeet Magdalena!\\nMagdalena Rahn is a current Codeup student in a Data Science cohort in San Antonio, Texas. She has a professional background in cross-cultural communications, international business development, the wine industry and journalism. After serving in the US Navy, she decided to complement her professional skill set by attending the Data Science program at Codeup; she is set to graduate in March 2023. Magdalena is fluent in French, Bulgarian, Chinese-Mandarin, Spanish and Italian.\\nWe asked Magdalena how Codeup impacted her career, and she replied “Codeup has provided a solid foundation in analytical processes, programming and data science methods, and it’s been an encouragement to have such supportive instructors and wonderful classmates.”\\nDon’t forget to tune in on March 29th to sit in on an insightful conversation with Magdalena.\\n'},\n",
       " {'title': 'Women in tech: Panelist Spotlight – Rachel Robbins-Mayhill',\n",
       "  'content': '\\nWomen in tech: Panelist Spotlight – Rachel Robbins-Mayhill\\nCodeup is hosting a Women in Tech Panel in honor of Women’s History Month on March 29th, 2023! To further celebrate, we’d like to spotlight each of our panelists leading up to the discussion to learn a bit about their respective experiences as women in the tech industry! Meet Rachel!\\n\\nRachel Robbins-Mayhill is a Decision Science Analyst I in San Antonio, Texas. Rachel has had a varied career that includes counseling, teaching, training, community development, and military operations. Her focus has always been on assessing needs, identifying solutions, and educating individuals and groups on aligning needs and solutions in different contexts. Rachel’s passion for data science stems from her belief that data is a powerful tool for communicating patterns that can lead to hope and growth in the future.\\nIn June 2022, Rachel graduated from Codeup’s Innis cohort, where she honed her skills in data science. Shortly after, she started working as a Data Science Technical Writer with Apex Systems as a Contractor for USAA in July 2022. Her unconventional role allowed her to understand where her skills could be best utilized to support USAA in a non-contract role.\\nRachel recently joined USAA’s Data Science Delivery team as a Decision Science Analyst I in February 2023. The team is focused on delivering machine learning models for fraud prevention, and Rachel’s particular role centers around providing strategic process solutions for the team in collaboration with Operational and Model Risk components.\\nIn addition to her career, Rachel is currently pursuing a master’s degree in Applied Data Science from Syracuse University, further expanding her knowledge and skills in the field. Rachel is passionate about collaborating with individuals who share her belief in the potential of others and strive to achieve growth through logical, informed action. She welcomes LinkedIn connections and is excited about supporting the network of CodeUp alumni!\\nWe asked Rachel how Codeup impacted her career, and she replied “Codeup delivered a comprehensive education in all facets of the data science pipeline, laying a strong foundation for me to build upon. Through repeated hands-on practice, I developed a reliable process that was immediately applicable in my job. Collaborative group projects were instrumental in helping me hone my skills in project management, allowing me to navigate complex data science projects with comfortability. Thanks to this invaluable experience, I was able to make significant strides in my career within just six months of graduating from Codeup.”\\nDon’t forget to tune in on March 29th to sit in on an insightful conversation.\\n'},\n",
       " {'title': 'Women in Tech: Panelist Spotlight – Sarah Mellor',\n",
       "  'content': '\\nWomen in tech: Panelist Spotlight – Sarah Mellor\\xa0\\nCodeup is hosting a Women in Tech Panel in honor of Women’s History Month on March 29th, 2023! To further celebrate, we’d like to spotlight each of our panelists leading up to the discussion to learn a bit about their respective experiences as women in the tech industry!\\nMeet Sarah!\\nSarah Mellor currently works as the Director of People Operations. She joined Codeup four and a half years ago as an Admissions Manager. She went on to build out and lead the Marketing and Admissions team, while picking up People Ops tasks and projects here and there until moving over to lead the People Ops team two years ago. Prior to Codeup, she worked at education-focused non-profits in Washington, DC and Boulder, Colorado. She graduated from Wake Forest University.\\nWe asked Sarah how Codeup has impacted her career, and her response was “I have absolutely loved having the privilege to grow alongside Codeup. In my time here across multiple different roles and departments, I’ve seen a lot of change. The consistent things have always been the high quality of passionate and hardworking people I get to work with; the impactful mission we get to work on; and the inspiring students who trust us with their career change.”\\nDon’t forget to tune in on March 29th to sit in on an insightful conversation.\\n'},\n",
       " {'title': 'Women in Tech: Panelist Spotlight – Madeleine Capper',\n",
       "  'content': '\\nWomen in tech: Panelist Spotlight – Madeleine Capper\\nCodeup is hosting a Women in Tech Panel in honor of Women’s History Month on March 29th, 2023! To further celebrate, we’d like to spotlight each of our panelists leading up to the discussion to learn a bit about their respective experiences as women in the tech industry!\\nMeet Madeleine!\\nMadeleine Capper is a Data Scientist in San Antonio, Texas. A long-standing San Antonio resident, she studied mathematics at the University of Texas San Antonio and has worked as a Data Scientist for Booz Allen Hamilton. Madeleine currently teaches Data Science at Codeup, where she works daily with burgeoning data professionals to help them actualize their career aspirations through technical education.\\nMadeleine attended Codeup as a student in early 2019 as a pupil in the very first Codeup Data Science cohort. The program proved immediately effective and she was the first student to obtain a data career out of the program. After working at Booz Allen Hamilton, Madeleine’s passion for education in conjunction with her appreciation for Codeup’s capacity for transformative life change brought her back to the institution in an instructional capacity, where she has been teaching for two years.\\nDon’t forget to tune in on March 29th to sit in on an insightful conversation.\\n'},\n",
       " {'title': 'Black Excellence in Tech: Panelist Spotlight – Wilmarie De La Cruz Mejia',\n",
       "  'content': '\\nBlack excellence in tech: Panelist Spotlight – Wilmarie De La Cruz Mejia\\n\\nCodeup is hosting a Black Excellence in Tech Panel in honor of Black History Month on February 22, 2023! To further celebrate, we’d like to spotlight each of our panelists leading up to the discussion to learn a bit about their respective experiences as black leaders in the tech industry!\\xa0\\xa0\\nMeet Wilmarie!\\nWilmarie De\\xa0La Cruz Mejia is a current Codeup student on the path to becoming a Full-Stack Web Developer at our Dallas, TX campus.\\xa0\\nWilmarie is a veteran expanding her knowledge of programming languages and technologies on her journey with Codeup.\\xa0\\nWe asked Wilmarie to share more about her experience at Codeup. She shares, “I was able to meet other people who were passionate about coding and be in a positive learning environment.”\\nWe hope you can join us on February 22nd to sit in on an insightful conversation with Wilmarie and all of our panelists!\\n'}]"
      ]
     },
     "execution_count": 62,
     "metadata": {},
     "output_type": "execute_result"
    }
   ],
   "source": [
    "def get_blog_articles(url='https://codeup.com/blog/'):\n",
    "    # Make a soup variable holding the response content\n",
    "    soup = create_soup(url)\n",
    "    \n",
    "    # list of links\n",
    "    blog_links = [element[\"href\"] for element in soup.find_all(\"a\", class_=\"more-link\")]\n",
    "\n",
    "    article_dict = []\n",
    "    for link in blog_links:\n",
    "        # get access to pages\n",
    "        soup = create_soup(link)\n",
    "        # title\n",
    "        title = soup.h1.text\n",
    "        # content info\n",
    "\n",
    "        # append dict to list\n",
    "        content_dict = {\"title\": title, \n",
    "                        \"content\": soup.find('div', class_=\"entry-content\").text}\n",
    "        article_dict.append(content_dict)\n",
    "    return article_dict\n",
    "\n",
    "\n",
    "\n",
    "get_blog_articles()\n",
    "    "
   ]
  },
  {
   "cell_type": "markdown",
   "id": "8913f222",
   "metadata": {},
   "source": [
    "2. News Articles\n",
    "\n",
    "We will now be scraping text data from inshorts, a website that provides a brief overview of many different topics.\n",
    "\n",
    "Write a function that scrapes the news articles for the following topics:\n",
    "\n",
    "Business\n",
    "Sports\n",
    "Technology\n",
    "Entertainment\n",
    "The end product of this should be a function named get_news_articles that returns a list of dictionaries, where each dictionary has this shape:\n",
    "\n",
    "\n",
    "{\n",
    "    \n",
    "    'title': 'The article title',\n",
    "    \n",
    "    'content': 'The article content',\n",
    "    \n",
    "    'category': 'business' # for example\n",
    "    \n",
    "}\n"
   ]
  },
  {
   "cell_type": "code",
   "execution_count": 228,
   "id": "afcb06f2",
   "metadata": {},
   "outputs": [],
   "source": [
    "soup = create_soup(\"https://blog.inshorts.com/\")"
   ]
  },
  {
   "cell_type": "code",
   "execution_count": 304,
   "id": "e68b7ccb",
   "metadata": {},
   "outputs": [
    {
     "name": "stdout",
     "output_type": "stream",
     "text": [
      "uncategorized\n",
      "uncategorized\n",
      "uncategorized\n",
      "uncategorized\n",
      "uncategorized\n",
      "announcements\n",
      "announcements\n",
      "announcements\n",
      "announcements\n",
      "announcements\n"
     ]
    },
    {
     "data": {
      "text/plain": [
       "['uncategorized',\n",
       " 'uncategorized',\n",
       " 'uncategorized',\n",
       " 'uncategorized',\n",
       " 'uncategorized',\n",
       " 'announcements',\n",
       " 'announcements',\n",
       " 'announcements',\n",
       " 'announcements',\n",
       " 'announcements']"
      ]
     },
     "execution_count": 304,
     "metadata": {},
     "output_type": "execute_result"
    }
   ],
   "source": [
    "elements2 = soup.find_all(\"article\")\n",
    "# elements2[\"class\"]\n",
    "\n",
    "for i in elements2:\n",
    "    print(i[\"class\"][7][9:])\n",
    "\n",
    "# list comp of cats\n",
    "category_list = [i[\"class\"][7][9:] for i in soup.find_all(\"article\")]\n",
    "\n",
    "    \n",
    "\n",
    "# for i in elements2:\n",
    "#     i[0]"
   ]
  },
  {
   "cell_type": "code",
   "execution_count": 270,
   "id": "06832ddd",
   "metadata": {},
   "outputs": [
    {
     "name": "stdout",
     "output_type": "stream",
     "text": [
      "\n",
      "\n",
      "<article class=\"post-excerpt post-734 post type-post status-publish format-standard hentry category-uncategorized entry\" id=\"post-734\">\n",
      "<header class=\"entry-header default-max-width\">\n",
      "<h2 class=\"entry-title\"><a href=\"https://blog.inshorts.com/2022/01/27/around-86-indians-feel-voting-should-be-made-compulsory-public-poll/\" rel=\"bookmark\">86% Indians feel voting should be made compulsory: Public App Survey￼</a></h2> </header><!-- .entry-header -->\n",
      "<div class=\"entry-content\">\n",
      "<p>On the occasion of the 12th National Voters’ Day, Public App, India’s largest location-based social network, conducted a survey to understand how seriously Indians take their voting rights and on what factors they evaluate for which candidate to choose. This pan-India poll was conducted with a sizable data pool of over 4 lakh people. As…<span class=\"excerpt-more-link\"><a class=\"more-link\" href=\"https://blog.inshorts.com/2022/01/27/around-86-indians-feel-voting-should-be-made-compulsory-public-poll/\">More <svg aria-hidden=\"true\" class=\"svg-icon\" fill=\"none\" focusable=\"false\" height=\"24\" role=\"img\" viewbox=\"0 0 24 24\" width=\"24\" xmlns=\"http://www.w3.org/2000/svg\"><path clip-rule=\"evenodd\" d=\"M6.96954 10.2804L11.9999 15.3107L17.0302 10.2804L15.9695 9.21973L11.9999 13.1894L8.0302 9.21973L6.96954 10.2804Z\" fill=\"currentColor\" fill-rule=\"evenodd\"></path></svg></a></span></p>\n",
      "</div><!-- .entry-content -->\n",
      "</article>\n",
      " #post-${ID} \n",
      "\n",
      "\n",
      "<article class=\"post-excerpt post-712 post type-post status-publish format-standard hentry category-uncategorized entry\" id=\"post-712\">\n",
      "<header class=\"entry-header default-max-width\">\n",
      "<h2 class=\"entry-title\"><a href=\"https://blog.inshorts.com/2021/12/27/43-say-they-kept-their-new-years-resolution-last-year-public-ki-awaaz-poll/\" rel=\"bookmark\">43% say they kept their New Year’s resolution last year: Public ki Awaaz poll</a></h2> </header><!-- .entry-header -->\n",
      "<div class=\"entry-content\">\n",
      "<p>As 2021 draws to a close end, users of location-based social network Public weighed in their views on the age-old tradition of making New Year’s resolutions. A New Year’s resolution is a common practice in which a person resolves to continue good habits, change an undesired trait or behavior, accomplish a personal goal, or otherwise…<span class=\"excerpt-more-link\"><a class=\"more-link\" href=\"https://blog.inshorts.com/2021/12/27/43-say-they-kept-their-new-years-resolution-last-year-public-ki-awaaz-poll/\">More <svg aria-hidden=\"true\" class=\"svg-icon\" fill=\"none\" focusable=\"false\" height=\"24\" role=\"img\" viewbox=\"0 0 24 24\" width=\"24\" xmlns=\"http://www.w3.org/2000/svg\"><path clip-rule=\"evenodd\" d=\"M6.96954 10.2804L11.9999 15.3107L17.0302 10.2804L15.9695 9.21973L11.9999 13.1894L8.0302 9.21973L6.96954 10.2804Z\" fill=\"currentColor\" fill-rule=\"evenodd\"></path></svg></a></span></p>\n",
      "</div><!-- .entry-content -->\n",
      "</article>\n",
      " #post-${ID} \n",
      "\n",
      "\n",
      "<article class=\"post-excerpt post-689 post type-post status-publish format-standard hentry category-uncategorized entry\" id=\"post-689\">\n",
      "<header class=\"entry-header default-max-width\">\n",
      "<h2 class=\"entry-title\"><a href=\"https://blog.inshorts.com/2021/11/23/68-approve-of-centres-decision-to-withdraw-farm-bills-public-ki-awaaz-poll/\" rel=\"bookmark\">68% approve of Centre’s decision to withdraw farm bills: Public ki Awaaz poll</a></h2> </header><!-- .entry-header -->\n",
      "<div class=\"entry-content\">\n",
      "<p>While addressing the nation on November 19, Prime Minister Narendra Modi announced that the three contentious farm laws -The Farmers’ Produce Trade and Commerce (Promotion and Facilitation) Bill, 2020, The Farmers (Empowerment and Protection) Agreement of Price Assurance and Farm Services Bill, 2020 &amp; The Essential Commodities (Amendment) Bill, 2020 – would be repealed in…<span class=\"excerpt-more-link\"><a class=\"more-link\" href=\"https://blog.inshorts.com/2021/11/23/68-approve-of-centres-decision-to-withdraw-farm-bills-public-ki-awaaz-poll/\">More <svg aria-hidden=\"true\" class=\"svg-icon\" fill=\"none\" focusable=\"false\" height=\"24\" role=\"img\" viewbox=\"0 0 24 24\" width=\"24\" xmlns=\"http://www.w3.org/2000/svg\"><path clip-rule=\"evenodd\" d=\"M6.96954 10.2804L11.9999 15.3107L17.0302 10.2804L15.9695 9.21973L11.9999 13.1894L8.0302 9.21973L6.96954 10.2804Z\" fill=\"currentColor\" fill-rule=\"evenodd\"></path></svg></a></span></p>\n",
      "</div><!-- .entry-content -->\n",
      "</article>\n",
      " #post-${ID} \n",
      "\n",
      "\n",
      "<article class=\"post-excerpt post-646 post type-post status-publish format-standard hentry category-uncategorized entry\" id=\"post-646\">\n",
      "<header class=\"entry-header default-max-width\">\n",
      "<h2 class=\"entry-title\"><a href=\"https://blog.inshorts.com/2021/10/19/65-confident-dhoni-will-help-indias-performance-at-t20-public-ki-awaaz-poll/\" rel=\"bookmark\">65% confident Dhoni will help improve India’s performance at T20: Public Ki Awaaz poll</a></h2> </header><!-- .entry-header -->\n",
      "<div class=\"entry-content\">\n",
      "<p>The latest round of opinion polls conducted on location-based social network Public has revealed that at 64.6%, cricket fans strongly agree that mentor MS Dhoni will help improve India’s prospects at T20. The poll gauged opinions of Bharat users ahead of the ICC Men’s T20 World Cup 2021. This year, BCCI is the host of…<span class=\"excerpt-more-link\"><a class=\"more-link\" href=\"https://blog.inshorts.com/2021/10/19/65-confident-dhoni-will-help-indias-performance-at-t20-public-ki-awaaz-poll/\">More <svg aria-hidden=\"true\" class=\"svg-icon\" fill=\"none\" focusable=\"false\" height=\"24\" role=\"img\" viewbox=\"0 0 24 24\" width=\"24\" xmlns=\"http://www.w3.org/2000/svg\"><path clip-rule=\"evenodd\" d=\"M6.96954 10.2804L11.9999 15.3107L17.0302 10.2804L15.9695 9.21973L11.9999 13.1894L8.0302 9.21973L6.96954 10.2804Z\" fill=\"currentColor\" fill-rule=\"evenodd\"></path></svg></a></span></p>\n",
      "</div><!-- .entry-content -->\n",
      "</article>\n",
      " #post-${ID} \n",
      "\n",
      "\n",
      "<article class=\"post-excerpt post-598 post type-post status-publish format-standard hentry category-uncategorized entry\" id=\"post-598\">\n",
      "<header class=\"entry-header default-max-width\">\n",
      "<h2 class=\"entry-title\"><a href=\"https://blog.inshorts.com/2021/10/08/festivities-in-the-air-but-indians-still-cautious-with-money-public-app-survey/\" rel=\"bookmark\">Festivities in the air but Indians still cautious with money: Public App Survey</a></h2> </header><!-- .entry-header -->\n",
      "<div class=\"entry-content\">\n",
      "<p>5th October 2021: With festive season being just around the corner, a recent consumer poll by Public app with over 4 lakh respondents has revealed interesting social and economical consumer insights this year which has also been compared to a similar poll that was conducted in 2020. The poll highlights that while people are considerably…<span class=\"excerpt-more-link\"><a class=\"more-link\" href=\"https://blog.inshorts.com/2021/10/08/festivities-in-the-air-but-indians-still-cautious-with-money-public-app-survey/\">More <svg aria-hidden=\"true\" class=\"svg-icon\" fill=\"none\" focusable=\"false\" height=\"24\" role=\"img\" viewbox=\"0 0 24 24\" width=\"24\" xmlns=\"http://www.w3.org/2000/svg\"><path clip-rule=\"evenodd\" d=\"M6.96954 10.2804L11.9999 15.3107L17.0302 10.2804L15.9695 9.21973L11.9999 13.1894L8.0302 9.21973L6.96954 10.2804Z\" fill=\"currentColor\" fill-rule=\"evenodd\"></path></svg></a></span></p>\n",
      "</div><!-- .entry-content -->\n",
      "</article>\n",
      " #post-${ID} \n",
      "\n",
      "\n",
      "<article class=\"post-excerpt post-241 post type-post status-publish format-standard hentry category-announcements entry\" id=\"post-241\">\n",
      "<header class=\"entry-header default-max-width\">\n",
      "<h2 class=\"entry-title\"><a href=\"https://blog.inshorts.com/2021/09/01/72-confident-that-covid-19-vaccines-are-safe-effective-against-coronavirus-public-ki-awaaz-poll/\" rel=\"bookmark\">72% confident that Covid-19 vaccines are safe &amp; effective against coronavirus: Public Ki Awaaz Poll</a></h2> </header><!-- .entry-header -->\n",
      "<div class=\"entry-content\">\n",
      "<p>Majority (72%) believes that Covid-19 vaccines are safe and effective against coronavirus 8.8% of the respondents expressed hesitation in getting vaccinated About 25% responded positively to being fully vaccinated with both doses of vaccine In January 2021, India kicked off the world’s largest Covid-19 vaccination drive to vaccinate its nearly 90 crore eligible population. According…<span class=\"excerpt-more-link\"><a class=\"more-link\" href=\"https://blog.inshorts.com/2021/09/01/72-confident-that-covid-19-vaccines-are-safe-effective-against-coronavirus-public-ki-awaaz-poll/\">More <svg aria-hidden=\"true\" class=\"svg-icon\" fill=\"none\" focusable=\"false\" height=\"24\" role=\"img\" viewbox=\"0 0 24 24\" width=\"24\" xmlns=\"http://www.w3.org/2000/svg\"><path clip-rule=\"evenodd\" d=\"M6.96954 10.2804L11.9999 15.3107L17.0302 10.2804L15.9695 9.21973L11.9999 13.1894L8.0302 9.21973L6.96954 10.2804Z\" fill=\"currentColor\" fill-rule=\"evenodd\"></path></svg></a></span></p>\n",
      "</div><!-- .entry-content -->\n",
      "</article>\n",
      " #post-${ID} \n",
      "\n",
      "\n",
      "<article class=\"post-excerpt post-232 post type-post status-publish format-standard hentry category-announcements entry\" id=\"post-232\">\n",
      "<header class=\"entry-header default-max-width\">\n",
      "<h2 class=\"entry-title\"><a href=\"https://blog.inshorts.com/2021/07/23/68-confident-india-will-improve-performance-at-tokyo-olympics-compared-to-rio-public-ki-awaaz-poll/\" rel=\"bookmark\">68% confident India will improve performance at Tokyo Olympics compared to Rio: Public ki Awaaz Poll</a></h2> </header><!-- .entry-header -->\n",
      "<div class=\"entry-content\">\n",
      "<p>Nearly 76% see the world returning to normalcy with the Tokyo Olympics; 53% of the respondents are very excited. 22.74% and 21.98% are keen to watch Archery and Wrestling respectively, followed by Badminton (13.55%) and Boxing (8%). 33.71% said they’ll watch some other sport. Majority (74%) believes the Games help bring the country together and…<span class=\"excerpt-more-link\"><a class=\"more-link\" href=\"https://blog.inshorts.com/2021/07/23/68-confident-india-will-improve-performance-at-tokyo-olympics-compared-to-rio-public-ki-awaaz-poll/\">More <svg aria-hidden=\"true\" class=\"svg-icon\" fill=\"none\" focusable=\"false\" height=\"24\" role=\"img\" viewbox=\"0 0 24 24\" width=\"24\" xmlns=\"http://www.w3.org/2000/svg\"><path clip-rule=\"evenodd\" d=\"M6.96954 10.2804L11.9999 15.3107L17.0302 10.2804L15.9695 9.21973L11.9999 13.1894L8.0302 9.21973L6.96954 10.2804Z\" fill=\"currentColor\" fill-rule=\"evenodd\"></path></svg></a></span></p>\n",
      "</div><!-- .entry-content -->\n",
      "</article>\n",
      " #post-${ID} \n",
      "\n",
      "\n",
      "<article class=\"post-excerpt post-34 post type-post status-publish format-standard hentry category-announcements entry\" id=\"post-34\">\n",
      "<header class=\"entry-header default-max-width\">\n",
      "<h2 class=\"entry-title\"><a href=\"https://blog.inshorts.com/2021/01/14/47-find-whatsapps-updated-privacy-policy-unacceptable-says-inshorts-poll/\" rel=\"bookmark\">47% find Whatsapp’s updated privacy policy unacceptable says Inshorts poll</a></h2> </header><!-- .entry-header -->\n",
      "<div class=\"entry-content\">\n",
      "<p>January 12, 2021 With the debate raging over WhatsApp’s updated privacy policy in India, a whopping 47% respondents of an Inshorts poll said that they would not accept the policy and will look for alternatives of the messaging app. Around 14% respondents did not see any privacy concerns and said that they will accept and…<span class=\"excerpt-more-link\"><a class=\"more-link\" href=\"https://blog.inshorts.com/2021/01/14/47-find-whatsapps-updated-privacy-policy-unacceptable-says-inshorts-poll/\">More <svg aria-hidden=\"true\" class=\"svg-icon\" fill=\"none\" focusable=\"false\" height=\"24\" role=\"img\" viewbox=\"0 0 24 24\" width=\"24\" xmlns=\"http://www.w3.org/2000/svg\"><path clip-rule=\"evenodd\" d=\"M6.96954 10.2804L11.9999 15.3107L17.0302 10.2804L15.9695 9.21973L11.9999 13.1894L8.0302 9.21973L6.96954 10.2804Z\" fill=\"currentColor\" fill-rule=\"evenodd\"></path></svg></a></span></p>\n",
      "</div><!-- .entry-content -->\n",
      "</article>\n",
      " #post-${ID} \n",
      "\n",
      "\n",
      "<article class=\"post-excerpt post-40 post type-post status-publish format-standard hentry category-announcements entry\" id=\"post-40\">\n",
      "<header class=\"entry-header default-max-width\">\n",
      "<h2 class=\"entry-title\"><a href=\"https://blog.inshorts.com/2021/01/13/covid-or-no-covid-indians-are-ready-to-unpause-in-2021/\" rel=\"bookmark\">COVID or no COVID: Indians are ready to unpause in 2021</a></h2> </header><!-- .entry-header -->\n",
      "<div class=\"entry-content\">\n",
      "<p>January 13, 2021 As 2021 gets off to a shaky but hopeful start with everyone looking to put 2020 behind them, Inshorts conducted a New Year poll with over three lakh respondents giving their opinion on life as they see it in the new year. Vaccine rollouts notwithstanding, about 70% respondents said that the COVID-19…<span class=\"excerpt-more-link\"><a class=\"more-link\" href=\"https://blog.inshorts.com/2021/01/13/covid-or-no-covid-indians-are-ready-to-unpause-in-2021/\">More <svg aria-hidden=\"true\" class=\"svg-icon\" fill=\"none\" focusable=\"false\" height=\"24\" role=\"img\" viewbox=\"0 0 24 24\" width=\"24\" xmlns=\"http://www.w3.org/2000/svg\"><path clip-rule=\"evenodd\" d=\"M6.96954 10.2804L11.9999 15.3107L17.0302 10.2804L15.9695 9.21973L11.9999 13.1894L8.0302 9.21973L6.96954 10.2804Z\" fill=\"currentColor\" fill-rule=\"evenodd\"></path></svg></a></span></p>\n",
      "</div><!-- .entry-content -->\n",
      "</article>\n",
      " #post-${ID} \n",
      "\n",
      "\n",
      "<article class=\"post-excerpt post-43 post type-post status-publish format-standard hentry category-announcements entry\" id=\"post-43\">\n",
      "<header class=\"entry-header default-max-width\">\n",
      "<h2 class=\"entry-title\"><a href=\"https://blog.inshorts.com/2020/08/08/inshorts-launches-location-based-social-network-public-logs-a-whopping-10-mn-users-within-6-months/\" rel=\"bookmark\">Inshorts launches location-based social network Public, logs a whopping 10 Mn users within 6 months</a></h2> </header><!-- .entry-header -->\n",
      "<div class=\"entry-content\">\n",
      "<p>Announces continued growth momentum; records 300% QoQ growth 1 million videos are being created per month on Public National, January 08, 2020 – Location-based social network Public has registered a whopping 10 million users within 6 months of beta launch, becoming the fastest Indian social app to cross the milestone. Public allows people to record…<span class=\"excerpt-more-link\"><a class=\"more-link\" href=\"https://blog.inshorts.com/2020/08/08/inshorts-launches-location-based-social-network-public-logs-a-whopping-10-mn-users-within-6-months/\">More <svg aria-hidden=\"true\" class=\"svg-icon\" fill=\"none\" focusable=\"false\" height=\"24\" role=\"img\" viewbox=\"0 0 24 24\" width=\"24\" xmlns=\"http://www.w3.org/2000/svg\"><path clip-rule=\"evenodd\" d=\"M6.96954 10.2804L11.9999 15.3107L17.0302 10.2804L15.9695 9.21973L11.9999 13.1894L8.0302 9.21973L6.96954 10.2804Z\" fill=\"currentColor\" fill-rule=\"evenodd\"></path></svg></a></span></p>\n",
      "</div><!-- .entry-content -->\n",
      "</article>\n",
      " #post-${ID} \n",
      "\n",
      "\n",
      "<nav aria-label=\"Posts\" class=\"navigation pagination\">\n",
      "<h2 class=\"screen-reader-text\">Posts navigation</h2>\n",
      "<div class=\"nav-links\"><span aria-current=\"page\" class=\"page-numbers current\">1</span>\n",
      "<a class=\"page-numbers\" href=\"https://blog.inshorts.com/page/2/\">2</a>\n",
      "<a class=\"page-numbers\" href=\"https://blog.inshorts.com/page/3/\">3</a>\n",
      "<span class=\"page-numbers dots\">…</span>\n",
      "<a class=\"page-numbers\" href=\"https://blog.inshorts.com/page/6/\">6</a>\n",
      "<a class=\"next page-numbers\" href=\"https://blog.inshorts.com/page/2/\"><span class=\"nav-next-text\">Older posts</span> <svg aria-hidden=\"true\" class=\"svg-icon\" fill=\"none\" focusable=\"false\" height=\"22\" role=\"img\" viewbox=\"0 0 24 24\" width=\"22\" xmlns=\"http://www.w3.org/2000/svg\"><path clip-rule=\"evenodd\" d=\"M11.0303 17.0303L16.0607 11.9999L11.0303 6.96961L9.96968 8.03027L13.9394 11.9999L9.96968 15.9696L11.0303 17.0303Z\" fill=\"currentColor\" fill-rule=\"evenodd\"></path></svg></a></div>\n",
      "</nav>\n",
      "\n",
      "\n"
     ]
    }
   ],
   "source": [
    "elements2 = soup.find(\"main\", class_=\"site-main\")\n",
    "for i in elements2:\n",
    "    print(i)"
   ]
  },
  {
   "cell_type": "code",
   "execution_count": 251,
   "id": "43d501d2",
   "metadata": {},
   "outputs": [],
   "source": [
    "elements = soup.find_all(\"h2\", class_=\"entry-title\")\n",
    "for i in elements:\n",
    "    i.find(\"a\")[\"href\"]\n",
    "# list comprehension version\n",
    "links_list = [i.find(\"a\")[\"href\"] for i in soup.find_all(\"h2\", class_=\"entry-title\")]"
   ]
  },
  {
   "cell_type": "code",
   "execution_count": 11,
   "id": "23c0973f",
   "metadata": {},
   "outputs": [
    {
     "data": {
      "text/plain": [
       "[<div class=\"nav-links\"><span aria-current=\"page\" class=\"page-numbers current\">1</span>\n",
       " <a class=\"page-numbers\" href=\"https://blog.inshorts.com/page/2/\">2</a>\n",
       " <a class=\"page-numbers\" href=\"https://blog.inshorts.com/page/3/\">3</a>\n",
       " <span class=\"page-numbers dots\">…</span>\n",
       " <a class=\"page-numbers\" href=\"https://blog.inshorts.com/page/6/\">6</a>\n",
       " <a class=\"next page-numbers\" href=\"https://blog.inshorts.com/page/2/\"><span class=\"nav-next-text\">Older posts</span> <svg aria-hidden=\"true\" class=\"svg-icon\" fill=\"none\" focusable=\"false\" height=\"22\" role=\"img\" viewbox=\"0 0 24 24\" width=\"22\" xmlns=\"http://www.w3.org/2000/svg\"><path clip-rule=\"evenodd\" d=\"M11.0303 17.0303L16.0607 11.9999L11.0303 6.96961L9.96968 8.03027L13.9394 11.9999L9.96968 15.9696L11.0303 17.0303Z\" fill=\"currentColor\" fill-rule=\"evenodd\"></path></svg></a></div>]"
      ]
     },
     "execution_count": 11,
     "metadata": {},
     "output_type": "execute_result"
    }
   ],
   "source": [
    "url=\"https://blog.inshorts.com/\"\n",
    "soup = create_soup(url)\n",
    "soup.find_all(\"div\", class_=\"nav-links\")"
   ]
  },
  {
   "cell_type": "code",
   "execution_count": 38,
   "id": "af6ad2f3",
   "metadata": {},
   "outputs": [
    {
     "name": "stdout",
     "output_type": "stream",
     "text": [
      "https://blog.inshorts.com/page/1/\n",
      "https://blog.inshorts.com/page/2/\n",
      "https://blog.inshorts.com/page/3/\n",
      "https://blog.inshorts.com/page/4/\n",
      "https://blog.inshorts.com/page/5/\n",
      "https://blog.inshorts.com/page/6/\n"
     ]
    }
   ],
   "source": [
    "for i in range(1,7):\n",
    "    url = \"https://blog.inshorts.com/\"\n",
    "    print(f\"{url}page/{i}/\")\n",
    "    \n",
    "pages = [f\"https://blog.inshorts.com/page/{i}/\" for i in range(2,7)]"
   ]
  },
  {
   "cell_type": "code",
   "execution_count": 39,
   "id": "05250a65",
   "metadata": {},
   "outputs": [],
   "source": [
    "def get_news_articles(url=\"https://blog.inshorts.com/\"):\n",
    "    pages = [f\"{url}page/{i}/\" for i in range(2,7)]\n",
    "    for p in pages:\n",
    "        soup = create_soup(p)\n",
    "    \n",
    "  \n",
    "        # list of links from website\n",
    "        links_list = [i.find(\"a\")[\"href\"] for i in soup.find_all(\"h2\", class_=\"entry-title\")]\n",
    "        category_list = [i[\"class\"][7] for i in soup.find_all(\"article\")]\n",
    "        article_dict = []\n",
    "        for link in links_list:\n",
    "            # get access to pages\n",
    "            soup = create_soup(link)\n",
    "            # title\n",
    "            title = soup.h1.text\n",
    "            # content info\n",
    "            text_list = [p.get_text(strip=True) for div in soup.find_all(\"div\", class_=\"entry-content\") for p in div.find_all(\"p\")]\n",
    "            # list of category names\n",
    "            category_list = [i[\"class\"][6][9:] for i in soup.find_all(\"article\")]\n",
    "            # append dict to list\n",
    "\n",
    "            content_dict = {\"title\": title, \"content\": text_list, \"category\": category_list}\n",
    "            article_dict.append(content_dict)\n",
    "    return article_dict"
   ]
  },
  {
   "cell_type": "code",
   "execution_count": 35,
   "id": "c6bf2271",
   "metadata": {},
   "outputs": [],
   "source": [
    "def get_news_articles(url=\"https://blog.inshorts.com/\"):\n",
    "    soup = create_soup(url)\n",
    "    \n",
    "    # list of links from website\n",
    "    links_list = [i.find(\"a\")[\"href\"] for i in soup.find_all(\"h2\", class_=\"entry-title\")]\n",
    "    category_list = [i[\"class\"][7] for i in soup.find_all(\"article\")]\n",
    "    article_dict = []\n",
    "    for link in links_list:\n",
    "        # get access to pages\n",
    "        soup = create_soup(link)\n",
    "        # title\n",
    "        title = soup.h1.text\n",
    "        # content info\n",
    "        text_list = [p.get_text(strip=True) for div in soup.find_all(\"div\", class_=\"entry-content\") for p in div.find_all(\"p\")]\n",
    "        # list of category names\n",
    "        category_list = [i[\"class\"][6][9:] for i in soup.find_all(\"article\")]\n",
    "        # append dict to list\n",
    "        \n",
    "        content_dict = {\"title\": title, \"content\": text_list, \"category\": category_list}\n",
    "        article_dict.append(content_dict)\n",
    "    return article_dict\n",
    "\n",
    "    "
   ]
  },
  {
   "cell_type": "code",
   "execution_count": 40,
   "id": "c1ac09ac",
   "metadata": {},
   "outputs": [
    {
     "data": {
      "text/plain": [
       "[{'title': 'Inshorts is looking for writers to join the content team',\n",
       "  'content': ['Content aggregator app inshorts, which is India’s highest-rated news app, is looking for people to join its content team. Applications are invited for various positions, starting from Sub-editor to Associate Editor. All positions are full-time, based out of Noida (NCR).',\n",
       "   'Qualifications required:',\n",
       "   ''],\n",
       "  'category': ['announcements']},\n",
       " {'title': 'Correction',\n",
       "  'content': ['This is with reference to a short titled ‘Rats kill an infant at a Telangana govt hospital’ dated August 27, 2015 originally sourced from The Hindu. The short erroneously claimed that the incident occurred in a Telangana hospital while the actual incident took place in Guntur, Andhra Pradesh. Inshorts unconditionally apologizes to our readers and the Telangana government for this error in sourcing.'],\n",
       "  'category': ['announcements']},\n",
       " {'title': 'News in Shorts rebrands as inshorts',\n",
       "  'content': ['Way back in 2013, we had started News in Shorts with the promise that we will deliver crisp news articles within 60 words. In our journey towards fulfilling that promise and also the larger promise of delivering a news reading experience which is simple for our users,we have a come a long way.',\n",
       "   'With the current release already waiting in the app stores for you to update,we believe it’s time for us to evolve and look beyond which is traditionallyconsidered news.',\n",
       "   'Our vision is to make the world a more informed place by providing users relevant content in the most easy-to-consume format which we call Shorts.',\n",
       "   'We believe that all relevant content is informative for users, be it a new video documentary worth watching, a new blog post worth reading, a new product worth using and a lot more.',\n",
       "   'Hence, “inshorts”.'],\n",
       "  'category': ['announcements']},\n",
       " {'title': 'News in Shorts become No 1 news app on App Store',\n",
       "  'content': ['Replacing Times of India, mobile news app News in Shorts became the Rank 1 news app on Apple’s “App Store” on Wednesday. Times of India and NewsHunt are at Rank 2 and 3 respectively. The company, which recently closed a funding of $20 million, plans to launch a revamped app with a much better user experience in the coming weeks.'],\n",
       "  'category': ['announcements']},\n",
       " {'title': 'News in Shorts raises $20M from Tiger Global',\n",
       "  'content': ['During our college days, we noticed that most of our friends were not even aware of the basic happenings of the country and around the world. Although there were many media houses who used to write a lot of informative news, probably it was not being served in the manner which was easy to consume for this genre of users. Reporting and writing news versus delivering news in an easily consumable manner are two entirely different challenges.',\n",
       "   'The problem of delivering right content to the right person in the right format was unsolved back then. The idea to ease the process of delivering news, was simple- write the gist of the news in 60 words or less and deliver it to the user in an extremely simple way.',\n",
       "   'Media houses are experts in reporting and writing in-depth stories. So every brief about a news is linked to one of the media houses who has done an in-depth coverage about that story.',\n",
       "   'The goal is simple, make the news browsing easy for users, and help the users discover in-depth and informative content from the media houses. Writing a well-informed, detailed coverage is tedious task and takes a lot of effort. We want people to discover that piece of news, and appreciate the effort of the writer.',\n",
       "   'We have partly been able to do that as both users as well as media houses have started to appreciate the work. We recently crossed the one million downloads mark, and are currently the highest rated news app across the globe (in Play Store), which shows the kind of love our users are giving us.',\n",
       "   'After this round of investment, we will be able to deliver a much better experience going forward.',\n",
       "   'Our promise of delivering the best news reading experience by providing the right content to the right person in the right format stays and will continue to stay.'],\n",
       "  'category': ['announcements']},\n",
       " {'title': 'News in Shorts now has one million users',\n",
       "  'content': ['News in Shorts, the news app which guarantees to deliver news articles in 60 words or less, crossed the million downloads mark on Google Play Store on Tuesday. Notably, the app is currently ranked No. 2 in India on Play Store (News and Magazine section). The app was launched in September 2013 and is the brainchild of Azhar Iqubal, Anunay Arunav and Deepit Purkayastha.',\n",
       "   'The Noida-based mobile-only news service provider delivers the glimpse of every news article within 60 words. The service is currently available in only English and is centred for Indian users. The company counts Tiger Global, Sachin and Binny Bansal of Flipkart and Ankush, Gaurav and Manish of Travel Boutique Online and Rebright Partners as their investors.The company recently raised Rs 25 crore (USD 4 million) Series A round of funding led by Tiger Global. Earlier, it had raised a seed round of funding in July 2014, led by angel investors Gaurav Bhatnagar, Ankush Nijhawan, Manish Dhingra, Sachin and Binny Bansal (Founders of Flipkart), and Times Internet.'],\n",
       "  'category': ['announcements']},\n",
       " {'title': 'News in Shorts is looking for Content Analysts',\n",
       "  'content': ['News in Shorts, a company which counts Tiger Global, Sachin and Binny Bansal of Flipkart and Ankush, Gaurav and Manish of Travel Boutique Online as its investors, is hiring content analysts. This is a full-time position based in Noida. The company is looking for people withcommand over the English language, good general awarenessandsound logical skills. There are several perks of working with the News in Shorts team, a few of them being:',\n",
       "   '100% hike in CTCor a7-digit salary package(whichever is higher)',\n",
       "   'and',\n",
       "   'free food of choiceduring office hours (there are already plenty of food varieties available, but if you want, you have the freedom to order food from wherever you want).',\n",
       "   'The company also provides all their team members with aphone of their choice.',\n",
       "   'The work freedom includesno-leave policyi.e. you work if you wish or enjoy if you want; no one will ask you anything.',\n",
       "   'In a nutshell, you haveall the freedom till the time you are working responsibly.Interested applicants can send their resumes atcareers@newsinshorts.com'],\n",
       "  'category': ['careers']}]"
      ]
     },
     "execution_count": 40,
     "metadata": {},
     "output_type": "execute_result"
    }
   ],
   "source": [
    "get_news_articles()"
   ]
  },
  {
   "cell_type": "code",
   "execution_count": null,
   "id": "afbe3c42",
   "metadata": {},
   "outputs": [],
   "source": []
  }
 ],
 "metadata": {
  "kernelspec": {
   "display_name": "Python 3 (ipykernel)",
   "language": "python",
   "name": "python3"
  },
  "language_info": {
   "codemirror_mode": {
    "name": "ipython",
    "version": 3
   },
   "file_extension": ".py",
   "mimetype": "text/x-python",
   "name": "python",
   "nbconvert_exporter": "python",
   "pygments_lexer": "ipython3",
   "version": "3.9.13"
  }
 },
 "nbformat": 4,
 "nbformat_minor": 5
}
