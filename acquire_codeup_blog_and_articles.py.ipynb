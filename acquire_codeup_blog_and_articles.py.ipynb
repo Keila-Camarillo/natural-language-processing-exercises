{
 "cells": [
  {
   "cell_type": "code",
   "execution_count": 3,
   "id": "ed488d8c",
   "metadata": {},
   "outputs": [],
   "source": [
    "import requests\n",
    "from requests import get \n",
    "from bs4 import BeautifulSoup\n",
    "import pandas as pd\n",
    "\n",
    "import os\n",
    "from pprint import pprint \n",
    "\n",
    "import time\n",
    "import aquire as a"
   ]
  },
  {
   "cell_type": "markdown",
   "id": "ff83a5db",
   "metadata": {},
   "source": [
    "1. Codeup Blog Articles\n",
    "\n",
    "Visit Codeup's Blog and record the urls for at least 5 distinct blog posts. For each post, you should scrape at least the post's title and content.\n",
    "\n",
    "Encapsulate your work in a function named get_blog_articles that will return a list of dictionaries, with each dictionary representing one article. The shape of each dictionary should look like this:\n",
    "\n",
    "Plus any additional properties you think might be helpful.\n",
    "\n",
    "Bonus: Scrape the text of all the articles linked on codeup's blog page."
   ]
  },
  {
   "cell_type": "code",
   "execution_count": 5,
   "id": "8cd3a23c",
   "metadata": {},
   "outputs": [
    {
     "data": {
      "text/plain": [
       "[{'title': '86% Indians feel voting should be made compulsory: Public App Survey￼',\n",
       "  'content': ['On the occasion of the 12th National Voters’ Day,PublicApp, India’s largest location-based social network, conducted a survey to understand how seriously Indians take their voting rights and on what factors they evaluate for which candidate to choose. This pan-India poll was conducted with a sizable data pool of over4 lakh people. As a part of the survey, as many as 86% of respondents were in agreement when asked if voting should be made mandatory in the country.',\n",
       "   'The National Voters’ Day is observed each year on January 25 to mark the foundation day of the Election Commission of India in 1950. The day aims to encourage the enrolment of new and young voters of the country. The theme of this year’s National Voters Day is “Making elections inclusive, accessible, and participative.”',\n",
       "   'Indians don’t miss out on voting',\n",
       "   'Of the surveyed people, 79.5% have cast a vote at least once in their lifetime. When asked what could have been the reasons if they might have missed an opportunity to vote in the past, over half of the respondents (56.3%) claimed they have never missed out on their duty as citizens to cast a vote. While 30% of the respondents choose them being in another city as the prime reason for them to have missed casting their vote.',\n",
       "   'Vote of the public counts',\n",
       "   'Voting as a civic duty is a crucial contribution to social development by the citizens of the nation. Over 86% of the surveyed people felt that their vote makes a difference. Additionally, 81% of people trust the transparency of the current process of the country. Close to 60% of the respondents were under the age of 30, which displays the great participation and involvement of the youth in the voting process.',\n",
       "   'First research, then vote',\n",
       "   'When asked about the key deciding factor while casting their vote, the top two factors were the contesting leaders’ achievements in the last terms (34%) and detailed research of all leaders before arriving at a conclusion (31%). Among other factors were the party they stand from and their general popularity among the voters.',\n",
       "   'The power of a single vote is of great importance as it is not just a symbol of the will of the people but also puts their choices into action when it comes to deciding who should be a part of their governing body. The day aims to encourage the enrolment of new and young voters of the country. As per an advisory issued to the government, the Election Commission of India has asked all the staff and officers (of the government) to take the National Voters’ Day pledge on January 25, 2022, at 11:00 am to promote democratic electoral participation.',\n",
       "   'About Public',\n",
       "   'Public App is India’s largest location-based social network with 60 million+ active users and one million videos being created every month. The app allows people to record and share happenings around them enabling real-time local updates. It is available in all major Indian languages including Hindi, Bengali, Punjabi, Telugu, Tamil, Kannada, Malayalam, Odia, Assamese, Gujarati and Marathi.',\n",
       "   'For further information, please contact:',\n",
       "   'Tanya Katta – tanya.katta@archetype.co | 8860529824',\n",
       "   'Sejal Mehra – sejal.m@archetype.co | 9999704140'],\n",
       "  'category': ['uncategorized']},\n",
       " {'title': '43% say they kept their New Year’s resolution last year: Public ki Awaaz poll',\n",
       "  'content': ['As 2021 draws to a close end, users of location-based social network Public weighed in their views on the age-old tradition of making New Year’s resolutions. A New Year’s resolution is a common practice in which a person resolves to continue good habits, change an undesired trait or behavior, accomplish a personal goal, or otherwise improve their life at the start of a year.',\n",
       "   'And with the spirit of a new year dawning upon us, Public’s recurring poll series ‘Public ki Awaaz’ sought to understand the intentions of Bharat users on making and keeping their resolutions. The poll garnered over 5.7 lakh responses.',\n",
       "   'New Year, New Me?',\n",
       "   'While bidding this year a farewell, a majority of Public’s users (54.5%) expressed their desire to make a New Year’s resolution in 2022. Respondents said they’re heading into the new year with a commitment to prioritise physical health as about ¼ users (25.4%) resolve to care more about their well-being by adopting healthy habits like exercising and sticking to a healthy diet. Other common commitments people intend to make are: making more time for family & relationships (18%), giving up bad habits (cigarettes, alcohol, lying) (17.5%), economic saving & investment (17%). 21% chose none of the mentioned as their resolution goals.',\n",
       "   'Interestingly, even though the overall optimism to set goals stands fairly high, at least 16.5% said they will not make a resolution at all.',\n",
       "   'Last year this time…',\n",
       "   'Every year, millions of people make New Year’s resolutions, hoping to spark positive change and 2021 was no different. When asked if they made a resolution for the departing year, about 53% users said they did. About 26% said they didn’t while 21% remained unsure.',\n",
       "   'For the most part, resolutions among Indians haven’t changed too much in the past year either. Recurring themes of physical upkeep and giving up bad habits topped the lists at 28.5% and 24% respectively. Followed closely by spending more time with family & friends (17.7%) and economic saving & investment (8%). As compared to the approaching year,\\xa0a greater number of people (25.9%) said they did not make a resolution last year.',\n",
       "   'Resolution makers, resolution keepers',\n",
       "   'When asked if the respondents were able to keep their resolutions for 2021, the response seemed fairly positive as close to 43% said they could. However, despite the best of intentions, once the glow of a fresh year wears off, many people struggle to make good on their plans. This resonated with the response of about 30% users who said they could either not keep their resolutions or only a few goals were met. About 27% said they don’t remember.',\n",
       "   'And what makes up for a goal deterrent? At 27%, laziness is the topmost reason for not following through with a New Year’s resolution according to the users. Participants also cited avoidance (17%)\\xa0 and lack of consistency (16%) for the same. A\\xa0 majority of 41% remained unsure of the reason.',\n",
       "   ''],\n",
       "  'category': ['uncategorized']},\n",
       " {'title': '68% approve of Centre’s decision to withdraw farm bills: Public ki Awaaz poll',\n",
       "  'content': ['While addressing the nation on November 19, Prime Minister Narendra Modi announced that the three contentious farm laws -The Farmers’ Produce Trade and Commerce (Promotion and Facilitation) Bill, 2020, The Farmers (Empowerment and Protection) Agreement of Price Assurance and Farm Services Bill, 2020 & The Essential Commodities (Amendment) Bill, 2020 – would be repealed in the upcoming session of Parliament. The move comes after months of protests by agitating farmers & several farmers’ organizations who fear that the laws will pave the way for corporate exploitation. In the big announcement, the PM also urged “all protesting farmers to return to their homes and farms”.',\n",
       "   'To understand the mood of the nation with regard to the Centre’s decision, location-based social network Public conducted the ‘Public ki Awaaz’ poll to gauge the views of Bharat users across multiple parameters.',\n",
       "   'Key Highlights:',\n",
       "   'A decision in the right direction',\n",
       "   'The majority of respondents who participated in the poll believe that the decision to repeal the farm laws is right. 68.17% expressed their satisfaction with the move, while about 17% disagreed. About 15% remained undecided.',\n",
       "   'Likewise, 68% believe the withdrawal of farm laws, which have been a yearlong point of contention between the Centre and the farmers, are in the latter’s interest. However, 17% of respondents said they do not think the decision is in the best interest of farmers.',\n",
       "   'Interestingly, for further amicable decision making, PM Modi also announced that a committee will be formed to make Minimum Support Price (MSP) more effective as well as suggest ways to promote zero budgeting based-agriculture. The committee will have representatives of the Central Government, state governments, farmers, agricultural scientists, and agricultural economists, he said.',\n",
       "   'What led to the withdrawal?',\n",
       "   'Many users of the Public platform believe that the Centre’s decision was prompted by the farmers’ protests (65%). Farmers have been protesting against these laws at the borders of Delhi since November last year, as talks between them & the Centre remained inconclusive. The decision could also be influenced by the pressure from opposition parties, as many respondents believe (12%).  About 23% said the decision was taken at free will.',\n",
       "   'Although the withdrawal has been lauded as a stepping stone in their efforts, the Bhartiya Kisan Union has said, “The farmers’ protests won’t be withdrawn immediately. We’ll wait for the day when the farm laws will be repealed in the Parliament.”',\n",
       "   'A political masterstroke?',\n",
       "   'Many even believe the decision was taken to appease the farmer vote bank ahead of assembly in 5 states, including Punjab & UP wherein the composition of protesting farmers is the highest. This thought resounds with the majority of poll respondents: around 60% believe the reason behind repealing the laws is the upcoming state elections sometime next year. However, about 40% either disagree with this or are unsure about the sudden announcement.',\n",
       "   'Of those who see it as a politically motivated move, 50% believe that it will help the BJP in the state elections of UP & Punjab, while 26% believe that it will not help. About 23% remained undecided.'],\n",
       "  'category': ['uncategorized']},\n",
       " {'title': '65% confident Dhoni will help improve India’s performance at T20: Public Ki Awaaz poll',\n",
       "  'content': ['',\n",
       "   'The latest round of opinion polls conducted on location-based social network Public has revealed that at 64.6%, cricket fans strongly agree that mentor MS Dhoni will help improve India’s prospects at T20. The poll gauged opinions of Bharat users ahead of the ICC Men’s T20 World Cup 2021. This year, BCCI is the host of the tournament in the UAE. Cricket stadiums of Dubai, Abu Dhabi, and Sharjah will host the matches of the ICC event. Some matches of round 1 will take place in Oman.',\n",
       "   '',\n",
       "   '',\n",
       "   '',\n",
       "   'Key Highlights',\n",
       "   '',\n",
       "   '',\n",
       "   '',\n",
       "   '',\n",
       "   '',\n",
       "   'World Cup promises excitement',\n",
       "   '',\n",
       "   '',\n",
       "   'The majority of respondents have expressed their excitement about the mega event. About 53% of participants revealed their excitement for the World Cup that is being held just days after India’s own cricket festival, the IPL. While 67% believe that IPL as a precursor to the World Cup will be advantageous for the Indian team, a little over 18% have expressed otherwise.',\n",
       "   '',\n",
       "   '',\n",
       "   'The upcoming World Cup not just gauged the country’s excitement level but the undying faith in Team India too. Almost 60% of the respondents believe India will definitely bring the trophy home. Nearly 25% said the winning chances are 80-90% while a minority of 10.5% believe the chances are below 50%.',\n",
       "   '',\n",
       "   '',\n",
       "   '',\n",
       "   'Under Dhoni’s Wing',\n",
       "   '',\n",
       "   '',\n",
       "   'Dhoni, who recently led his team Chennai Super Kings to victory at the IPL has joined Team India’s camp in the UAE. Captain Virat Kohli himself has extended his support to the former skipper who brought home the 2013 World Championship Trophy. “He has got massive experience. He is quite excited himself. He has always been a mentor for all of us. Younger guys who are playing their first major tournaments at early stages of career will benefit,” Kohli was quoted as saying by a news agency.',\n",
       "   '',\n",
       "   '',\n",
       "   'When asked if Dhoni’s guidance will help, respondents look fairly optimistic. Almost 65% strongly believe Dhoni’s presence will improve the team’s performance, while further 19% also registered their agreement with the thought. About 16% of the respondents strongly/somewhat believe that Dhoni’s guidance won’t help.',\n",
       "   '',\n",
       "   '',\n",
       "   '',\n",
       "   'The World of Worthy Opponents',\n",
       "   '',\n",
       "   '',\n",
       "   'When it comes to competition, the respondents registered an array of opinions. New Zealand topped the list of strongest contenders against India at the T20 World Cup with 36% votes followed by India’s arch-rival Pakistan at 20%. Interestingly, India marked its iconic win at the 2007 T20 WC when the men in blue defeated Pak by 5 runs in the final match. Other potential contenders as per the participants of the poll areSouth Africa & Bangladesh with 14% & 4% votes respectively.',\n",
       "   '',\n",
       "   '',\n",
       "   '',\n",
       "   'Upcoming Captain Preferences',\n",
       "   '',\n",
       "   '',\n",
       "   'This year marks Virat Kohli’s last stint with captaincy at the T20 World Cup. While it is for the BCCI and the Indian selectors to decide who will lead the team at the next World Cup, respondents have given their verdict through the poll. Rohit Sharma is the first choice of a majority of respondents (69%). The right-handed batsman has led Mumbai Indians to 5 IPL titles, most than any other team.',\n",
       "   '',\n",
       "   '',\n",
       "   'Other players seen as prospective captains by the respondents are K.L Rahul (16.38%), Rishabh Pant (10.36%), followed by Jasprit Bumrah (3.82%).',\n",
       "   ''],\n",
       "  'category': ['uncategorized']},\n",
       " {'title': 'Festivities in the air but Indians still cautious with money: Public App Survey',\n",
       "  'content': ['5th October 2021: With festive season being just around the corner, a recent consumer poll byPublic appwith over4 lakh respondentshas revealed interesting social and economical consumer insights this year which has also been compared to a similar poll that was conducted in 2020. The poll highlights that while people are considerably more excited this year and plan to socialize, yet they will spend cautiously.',\n",
       "   'Public App’s survey reveals that 53% of respondents plan to spend less this festive season as opposed to pre-pandemic expenditure. When the same was asked last year, more than 61% had said that they will curb spending. This shows that though there is an improvement, the pandemic disruption is still high on people’s minds and purse strings will not be as open as businesses would be hoping for.',\n",
       "   'Festive celebrations are on the cards',\n",
       "   'On being asked if they are planning to celebrate in full swing over the coming few months, more than 82% expressed that they are counting down the days. About 74% of the respondents are also planning get-togethers with their loved ones. Compared to 2020, these numbers have significantly gone up from 73% and 63% respectively telling us how thrilled people are to welcome the festivities.',\n",
       "   'Market buzz comes alive',\n",
       "   'People are awaiting the delight of visiting the buzzing markets to get the festive feel! When asked about their preferred mode of shopping, 67.5% of respondents said they would prefer going to markets to shop for the festivities. As compared to last year, when only 53% of the people were confident to step out.',\n",
       "   'Clothes top the shopping lists',\n",
       "   'With social gatherings becoming frequent and offices being reopened, Indians are all set to revamp their wardrobe, with 23% saying they will spend more on clothes vis-a-vis other items like electronics, automobiles and jewelry.',\n",
       "   '',\n",
       "   'Are you excited to celebrate Diwali this year?',\n",
       "   'Will you plan get-togethers this Diwali with friends and family?',\n",
       "   'Will you visit markets for shopping this Diwali?',\n",
       "   'Will you prefer online shopping this Diwali?',\n",
       "   '',\n",
       "   'Yes',\n",
       "   'No',\n",
       "   'Yes',\n",
       "   'No',\n",
       "   'Yes',\n",
       "   'No',\n",
       "   'Yes',\n",
       "   'No',\n",
       "   '2020',\n",
       "   '73.05%',\n",
       "   '26.95%',\n",
       "   '63.16%',\n",
       "   '36.84%',\n",
       "   '53.14%',\n",
       "   '46.86%',\n",
       "   '50.00%',\n",
       "   '50.00%',\n",
       "   '2021',\n",
       "   '82.40%',\n",
       "   '17.60%',\n",
       "   '74.04%',\n",
       "   '25.96%',\n",
       "   '67.52%',\n",
       "   '32.48%',\n",
       "   '50.90%',\n",
       "   '49.10%',\n",
       "   '',\n",
       "   'How do you think the pandemic will affect your spending this festive season?',\n",
       "   'What are you planning to spend on this festive season?',\n",
       "   '',\n",
       "   'Less amount will be spent',\n",
       "   'An equal amount will be spent',\n",
       "   'More amount will be spent',\n",
       "   'Electronics',\n",
       "   'Automobiles',\n",
       "   'Clothes',\n",
       "   'Jewelry',\n",
       "   'Other',\n",
       "   '2020',\n",
       "   '61.38%',\n",
       "   '16.67%',\n",
       "   '21.95%',\n",
       "   '–',\n",
       "   '–',\n",
       "   '–',\n",
       "   '–',\n",
       "   '–',\n",
       "   '2021',\n",
       "   '53.23%',\n",
       "   '17.58%',\n",
       "   '29.20%',\n",
       "   '16.59%',\n",
       "   '11.99%',\n",
       "   '23.80%',\n",
       "   '10.94%',\n",
       "   '36.68%',\n",
       "   'About Public',\n",
       "   'Public App is India’s largest location-based social network with 60 million+ active users and one million videos created every month. The app allows people to record and share happenings around them enabling real-time local updates. It is available in all major Indian languages including, Hindi, Bengali, Punjabi, Telugu, Tamil, Kannada, Malayalam, Odia, Assamese, Gujarati, and Marathi.',\n",
       "   'For further information, please contact:',\n",
       "   'Kanika Yadav –kanika.yadav@archetype.co| 70421-80681',\n",
       "   'Sejal Mehra –sejal.m@archetype.co| 93103-32595'],\n",
       "  'category': ['uncategorized']},\n",
       " {'title': '72% confident that Covid-19 vaccines are safe & effective against coronavirus: Public Ki Awaaz Poll',\n",
       "  'content': ['In January 2021, India kicked off the world’s largest Covid-19 vaccination drive to vaccinate its nearly 90 crore eligible population. According to recent data, over 65 crore total doses have already been administered. However, we still have a long way to go before achieving the target to vaccinate the entire adult population by December 31 as set by the central government.',\n",
       "   'To examine the extent of vaccine hesitancy, location-based social network Public conducted the Public Ki Awaaz Poll. The poll garnered a total of 9,14,164 responses.',\n",
       "   'TRUST & WILLINGNESS TO GET THE VACCINE',\n",
       "   'According to the aggregate estimates, a large chunk of respondents considers it safe to take the vaccine. Around 72% strongly agree that the vaccines are safe & effective and over a majority of 60% respondents believe that Indian vaccines are at par with foreign Covid-19 vaccines. 1/4th of respondents (25%) also said that they’ve already been vaccinated with both the doses.',\n",
       "   'Although the majority of respondents favoured vaccines, the survey showed that 18% of respondents still haven’t received even a single dose while 8.8% were definite about not taking the vaccine at all. A meagre 4% strongly expressed their mistrust against the vaccines.',\n",
       "   'WHERE DOES THE HESITANCY STEM FROM?',\n",
       "   'The most cited reason for not getting vaccinated is the potential risk of getting side effects (34%). According to the WHO, like any vaccine, Covid-19 vaccines too can cause mild, short term side effects that go away within a few days. More serious/long-lasting side effects are possible although extremely rare.As per the findings, other factors that lead to vaccine hesitancy are lack of trust (20%), health concerns (14%) and never having taken any vaccine (11%).',\n",
       "   'BUILDING CONFIDENCE',\n",
       "   'Strong confidence in the vaccines leads to more people getting vaccinated, which leads to fewer Covid-19 illnesses, hospitalisations, and deaths. People’s confidence in vaccines is influenced by a number of factors. According to the poll, both community and institutional encouragement are essential in this regard. 24% of respondents said that their confidence in the efficacy of vaccines is based on the recommendations of friends and family, while 25% said that they’ll go by the word of healthcare experts.',\n",
       "   'INFORMATION IS CRUCIAL',\n",
       "   'As per CDC, educating people about vaccines, including how they were developed and their intense safety monitoring, and how you can talk to others about the vaccines helps inculcate confidence. The vitality of information is indicated in the responses of the participants as 23% hold the view that access to more information on the vaccines can help shore up confidence.',\n",
       "   'And where do they get their updates on the vaccines from? According to the findings, a whopping majority of 59% respondents get their information from the media (social media, TV, radio etc) whereas 15% rely on government ads. Around 13% also said that they depend on friends and family, while 11% cited other sources as means of obtaining information.'],\n",
       "  'category': ['announcements']},\n",
       " {'title': '68% confident India will improve performance at Tokyo Olympics compared to Rio: Public ki Awaaz Poll',\n",
       "  'content': ['After a year-long delay, the Tokyo 2020 Olympics is all set to happen on July 23, with boxer Mary Kom and hockey skipper Manpreet Singh leading the Indian contingent. Ahead of the opening ceremony, location-based social network Public conducted the Public ki Awaaz Poll to gauge the opinions of Indians on the international multi-sport event. The survey garnered a total of 2,50,438 responses from Bharat users.',\n",
       "   'In these unprecedented times of Covid-19, undoubtedly the circumstances are quite unusual. Host nation Japan has pledged to hold a “safe and secure” Olympics, but still there are some concerns floating around globally. Yet, nearly 76% of respondents view the Olympic Games as an opportunity for the world to return back to normalcy while 24% disagree. In fact, Indians seem fairly enthused about Tokyo 2020 as 53% of respondents said they are very excited for the games whereas around 25% don’t seem to be interested at all.',\n",
       "   'The 2016 Olympic Games at Rio was a pivotal one for India as for the first time in Olympic history, our medal haul was enriched by only its female athletes with PV Sindhu and Sakshi Malik claiming historic podiums on their Games debut.When asked to predict India’s performance this year at Tokyo, a majority of 68% respondents seemed confident and anticipated that India will improve and win more medals at the Olympics compared to Rio 2016, against only 12.7% who think otherwise.',\n",
       "   'With India’s 228-member strong contingent participating across 18 sporting events this year as opposed to 117 athletes in 2016, which sport category is everyone looking forward to the most? As per the findings, the top two spots are taken by Archery and Wrestling, with 22.74% and 21.98% keen to watch them on air, followed by Badminton (13.55%) and Boxing (8%). One-third (33.71%) said they’ll be watching some other sports.',\n",
       "   'Bringing the country together, the Olympics also kindle a feeling of patriotism and unity among citizens— almost three-fourths (74%) of the respondents believe. This view is not limited to the national level. Being an international multi-sport event, around 66% of respondents agreed that the Games are a symbol of global bonding as it provides an opportunity for participating nations to strengthen their relationship with each other. However, about 15% of respondents believe they don’t while 18.4% were not sure.',\n",
       "   'Olympics are a source of inspiration and motivation for the younger generation to participate in sports seems to be the dominant view with a whopping 72% respondents agreeing. But when asked about the state of national policies in India, around 70% said there aren’t enough to promote sports and fitness. On the other hand, around 14% strongly disagree and believe that there are enough efforts being carried out for the same.'],\n",
       "  'category': ['announcements']},\n",
       " {'title': '47% find Whatsapp’s updated privacy policy unacceptable says Inshorts poll',\n",
       "  'content': ['January 12, 2021With the debate raging over WhatsApp’s updated privacy policy in India, a whopping 47% respondents of an Inshorts poll said that they would not accept the policy and will look for alternatives of the messaging app. Around 14% respondents did not see any privacy concerns and said that they will accept and continue using Whatsapp. Over 39% respondents said that they will accept the policy as they are not aware of any suitable alternatives at the moment. Over 1.8 lakh app users participated in the survey which was conducted by Inshorts, India’s #1 English news app.',\n",
       "   ''],\n",
       "  'category': ['announcements']},\n",
       " {'title': 'COVID or no COVID: Indians are ready to unpause in 2021',\n",
       "  'content': ['January 13, 2021As 2021 gets off to a shaky but hopeful start with everyone looking to put 2020 behind them,Inshortsconducted a New Year poll with over three lakh respondents giving their opinion on life as they see it in the new year.',\n",
       "   'Vaccine rollouts notwithstanding, about 70% respondents said that the COVID-19 pandemic will stay put for the majority of 2021 as well. However, almost 41% respondents said that they will seek to reclaim some aspects of their pre-pandemic life in 2021 that came to a stop in 2020.',\n",
       "   'From getting travel plans back on their bucket lists to pondering over the future of workspaces, here’s what Indians said:',\n",
       "   '1.From the couch to the office desk?',\n",
       "   'Work from home became the new normal and over 40% respondents want that to continue. Only 27% want to return full-time to office spaces, while 33% respondents want a hybrid working model which sits somewhere comfortably between the two extremes.',\n",
       "   '2.It’s time to disco?',\n",
       "   'When asked if they would be going to social places like movie theatres or clubs in 2021, almost 44% of respondents felt that it was time to get out of the lockdown sweatpants and put on their dancing shoes once again.',\n",
       "   '3.No more #ThrowbackThursday?',\n",
       "   'With all the travel restrictions in place, social media was stormed with recycled photos of sunbathing at the beach and strolling in the hills. However, about 62% of respondents said that vacation is on the cards and they would travel in 2021, giving some serious wanderlust goals.',\n",
       "   '4.How many pushups does it take?',\n",
       "   'Though most of the previous year was spent cooped up at home, people did not stay back from making their health a priority. From drinking traditional immunity boosters to pulling out the dusty old yoga mat, health came first. 95% of respondents said that they would continue their health and hygiene routine in 2021 as followed during the pandemic. It looks like self-care will be trending this year too.',\n",
       "   'With sanitizers in every pocket and masks always on, COVID or no COVID, Indians are all set to unpause in 2021.'],\n",
       "  'category': ['announcements']},\n",
       " {'title': 'Inshorts launches location-based social network Public, logs a whopping 10 Mn users within 6 months',\n",
       "  'content': ['National, January 08, 2020 – Location-based social network Public has registered a whopping 10 million users within 6 months of beta launch, becoming the fastest Indian social app to cross the milestone. Public allows people to record and share happenings around them enabling real-time local updates, especially in the Tier II and Tier III cities. One million videos are being created every month on Public empowering the local community to stay connected and informed.',\n",
       "   'The app is witnessing tremendous growth in the Tier 2 and 3 cities and has already become the No 1 ranked app on the play store in the category in a short span of 6 months.',\n",
       "   'Commenting on the milestone, Azhar Iqubal, Co-founder and CEO, Inshorts said, “Public is giving everyone a platform to connect with their local communities and our rapid growth is demonstrative of the strong desire of people to stay connected with their localities. Within 6 months of launch, Public has become the number 1 app on play store in the category and we expect to have more than 50 Mn users by the time we complete one year of launch.”',\n",
       "   '“With an initial investment of USD 5 million, the app is available in 5 Indian languages viz. Hindi, Bengali, Gujarati, Tamil and Telugu. It will be available in all Indian languages in the coming months,” he added.',\n",
       "   'Digitalization in India has shown a radical shift to the regional scenario, marking a significant rise in content consumption pattern. Recent reports by KPMG-Google suggest that video viewership in India is going to be dominated by regional language users and the market is projected to touch 536 million users by 2021. The exponential rise of Public app is thus a manifestation of the growing demand for vernacular content in Tier 2 and 3 cities of the country. The app provides the distribution of local happenings in the regional areas and promotes the consumption of relevant content in regional communities.',\n",
       "   'Link:https://play.google.com/store/apps/details?id=com.cardfeed.video_public&hl=en_IN'],\n",
       "  'category': ['announcements']}]"
      ]
     },
     "execution_count": 5,
     "metadata": {},
     "output_type": "execute_result"
    }
   ],
   "source": [
    "a.get_news_articles()"
   ]
  },
  {
   "cell_type": "code",
   "execution_count": 208,
   "id": "6bf12c96",
   "metadata": {},
   "outputs": [
    {
     "data": {
      "text/plain": [
       "<Response [200]>"
      ]
     },
     "execution_count": 208,
     "metadata": {},
     "output_type": "execute_result"
    }
   ],
   "source": [
    "# get response\n",
    "# to think I'm a real computer\n",
    "headers = {\"User-Agent\": \"Chrome/91.0.4472.124\"}\n",
    "\n",
    "url = 'https://codeup.com/blog/'\n",
    "response = get(url, headers=headers)\n",
    "response"
   ]
  },
  {
   "cell_type": "code",
   "execution_count": 209,
   "id": "5bb7f2af",
   "metadata": {},
   "outputs": [
    {
     "name": "stdout",
     "output_type": "stream",
     "text": [
      "<!DOCTYPE html>\n",
      "<html lang=\"en-US\">\n",
      "<head>\n",
      "\t<meta charset=\"UTF-8\" />\n",
      "<meta http-equiv=\"X-UA-Compatible\" content=\"IE=edge\">\n",
      "\t<link rel=\"pingback\" href=\"https://codeup.com/xmlrpc.php\" />\n",
      "\n",
      "\t<script type=\"text/javascript\">\n",
      "\t\tdocument.documentElement.className = 'js';\n",
      "\t</script>\n",
      "\t\n",
      "\t<link rel=\"preconnect\" href=\"https://fonts.gstatic.com\" crossorigin /><script id=\"diviarea-loader\">window.DiviPopupData=wi\n"
     ]
    }
   ],
   "source": [
    "print(response.text[:400])"
   ]
  },
  {
   "cell_type": "code",
   "execution_count": 210,
   "id": "81810fe5",
   "metadata": {},
   "outputs": [],
   "source": [
    "# Make a soup variable holding the response content\n",
    "soup = BeautifulSoup(response.content, 'html.parser')"
   ]
  },
  {
   "cell_type": "code",
   "execution_count": 211,
   "id": "ca2d43e3",
   "metadata": {},
   "outputs": [
    {
     "data": {
      "text/plain": [
       "'Spotlight on APIDA Voices: Celebrating Heritage and Inspiring Change ft. Arbeena Thapa'"
      ]
     },
     "execution_count": 211,
     "metadata": {},
     "output_type": "execute_result"
    }
   ],
   "source": [
    "# 1st blog header title\n",
    "soup.h2.text"
   ]
  },
  {
   "cell_type": "code",
   "execution_count": 212,
   "id": "9bd293d5",
   "metadata": {},
   "outputs": [],
   "source": [
    "# all paragraph elements\n",
    "list_of_p_elements = soup.find_all('p')\n"
   ]
  },
  {
   "cell_type": "code",
   "execution_count": 21,
   "id": "03730464",
   "metadata": {},
   "outputs": [
    {
     "data": {
      "text/plain": [
       "[<h2 class=\"entry-title\"><a href=\"https://codeup.com/featured/apida-heritage-month/\">Spotlight on APIDA Voices: Celebrating Heritage and Inspiring Change ft. Arbeena Thapa</a></h2>,\n",
       " <h2 class=\"entry-title\"><a href=\"https://codeup.com/featured/women-in-tech-panelist-spotlight/\">Women in tech: Panelist Spotlight – Magdalena Rahn</a></h2>,\n",
       " <h2 class=\"entry-title\"><a href=\"https://codeup.com/featured/women-in-tech-rachel-robbins-mayhill/\">Women in tech: Panelist Spotlight – Rachel Robbins-Mayhill</a></h2>,\n",
       " <h2 class=\"entry-title\"><a href=\"https://codeup.com/codeup-news/women-in-tech-panelist-spotlight-sarah-mellor/\">Women in Tech: Panelist Spotlight – Sarah Mellor</a></h2>,\n",
       " <h2 class=\"entry-title\"><a href=\"https://codeup.com/events/women-in-tech-madeleine/\">Women in Tech: Panelist Spotlight – Madeleine Capper</a></h2>,\n",
       " <h2 class=\"entry-title\"><a href=\"https://codeup.com/codeup-news/panelist-spotlight-4/\">Black Excellence in Tech: Panelist Spotlight – Wilmarie De La Cruz Mejia</a></h2>]"
      ]
     },
     "execution_count": 21,
     "metadata": {},
     "output_type": "execute_result"
    }
   ],
   "source": [
    "# class selector is denoted with '.' before the class name\n",
    "soup.select('.entry-title')"
   ]
  },
  {
   "cell_type": "code",
   "execution_count": 213,
   "id": "347b78ef",
   "metadata": {},
   "outputs": [
    {
     "data": {
      "text/plain": [
       "[<a class=\"more-link\" href=\"https://codeup.com/featured/apida-heritage-month/\">read more</a>,\n",
       " <a class=\"more-link\" href=\"https://codeup.com/featured/women-in-tech-panelist-spotlight/\">read more</a>,\n",
       " <a class=\"more-link\" href=\"https://codeup.com/featured/women-in-tech-rachel-robbins-mayhill/\">read more</a>,\n",
       " <a class=\"more-link\" href=\"https://codeup.com/codeup-news/women-in-tech-panelist-spotlight-sarah-mellor/\">read more</a>,\n",
       " <a class=\"more-link\" href=\"https://codeup.com/events/women-in-tech-madeleine/\">read more</a>,\n",
       " <a class=\"more-link\" href=\"https://codeup.com/codeup-news/panelist-spotlight-4/\">read more</a>]"
      ]
     },
     "execution_count": 213,
     "metadata": {},
     "output_type": "execute_result"
    }
   ],
   "source": [
    "blog_links = soup.find_all(\"a\", class_ = \"more-link\")\n",
    "for element in blog_links:\n",
    "    print(element[\"href\"])"
   ]
  },
  {
   "cell_type": "code",
   "execution_count": 214,
   "id": "d0268bf1",
   "metadata": {},
   "outputs": [
    {
     "data": {
      "text/plain": [
       "'https://codeup.com/featured/apida-heritage-month/'"
      ]
     },
     "execution_count": 214,
     "metadata": {},
     "output_type": "execute_result"
    }
   ],
   "source": [
    "#parse 1st link only\n",
    "blog_links[0][\"href\"]"
   ]
  },
  {
   "cell_type": "code",
   "execution_count": 67,
   "id": "3852c1e5",
   "metadata": {},
   "outputs": [
    {
     "name": "stdout",
     "output_type": "stream",
     "text": [
      "https://codeup.com/featured/apida-heritage-month/\n",
      "https://codeup.com/featured/women-in-tech-panelist-spotlight/\n",
      "https://codeup.com/featured/women-in-tech-rachel-robbins-mayhill/\n",
      "https://codeup.com/codeup-news/women-in-tech-panelist-spotlight-sarah-mellor/\n",
      "https://codeup.com/events/women-in-tech-madeleine/\n",
      "https://codeup.com/codeup-news/panelist-spotlight-4/\n"
     ]
    }
   ],
   "source": [
    "#parse aall links only\n",
    "for element in blog_links:\n",
    "    print(element[\"href\"])"
   ]
  },
  {
   "cell_type": "code",
   "execution_count": 68,
   "id": "d502438a",
   "metadata": {},
   "outputs": [
    {
     "data": {
      "text/plain": [
       "['https://codeup.com/featured/apida-heritage-month/',\n",
       " 'https://codeup.com/featured/women-in-tech-panelist-spotlight/',\n",
       " 'https://codeup.com/featured/women-in-tech-rachel-robbins-mayhill/',\n",
       " 'https://codeup.com/codeup-news/women-in-tech-panelist-spotlight-sarah-mellor/',\n",
       " 'https://codeup.com/events/women-in-tech-madeleine/',\n",
       " 'https://codeup.com/codeup-news/panelist-spotlight-4/']"
      ]
     },
     "execution_count": 68,
     "metadata": {},
     "output_type": "execute_result"
    }
   ],
   "source": [
    "#put into list\n",
    "links_list = []\n",
    "\n",
    "for element in blog_links:\n",
    "    links_list.append(element[\"href\"])\n",
    "    \n",
    "links_list"
   ]
  },
  {
   "cell_type": "code",
   "execution_count": 204,
   "id": "68a4a62f",
   "metadata": {},
   "outputs": [],
   "source": [
    "article_dict = []\n",
    "for link in links_list:\n",
    "    # get access to pages\n",
    "    headers = {\"User-Agent\": \"Chrome/91.0.4472.124\"}\n",
    "    \n",
    "    response = get(link, headers=headers)\n",
    "    soup = BeautifulSoup(response.content, \"html.parser\")\n",
    "    # title\n",
    "    title = soup.h1.text\n",
    "\n",
    "    # content info\n",
    "    text_list = [p.get_text(strip=True) for div in soup.find_all(\"div\", class_=\"entry-content\") for p in div.find_all(\"p\")]\n",
    "    # append dict to list\n",
    "    content_dict = {\"title\": title, \"content\": text_list}\n",
    "    article_dict.append(content_dict)\n",
    "\n"
   ]
  },
  {
   "cell_type": "code",
   "execution_count": 7,
   "id": "a74e9782",
   "metadata": {},
   "outputs": [],
   "source": [
    "def create_soup(url):\n",
    "    headers = {\"User-Agent\": \"Chrome/91.0.4472.124\"}\n",
    "\n",
    "    response = get(url, headers=headers)\n",
    "    return BeautifulSoup(response.content, 'html.parser')\n"
   ]
  },
  {
   "cell_type": "code",
   "execution_count": 8,
   "id": "731a627a",
   "metadata": {},
   "outputs": [
    {
     "data": {
      "text/plain": [
       "[{'title': 'Spotlight on APIDA Voices: Celebrating Heritage and Inspiring Change ft. Arbeena Thapa',\n",
       "  'content': ['May is traditionally known as Asian American and Pacific Islander (AAPI) Heritage Month. This month we celebrate the history and contributions made possible by our AAPI friends, family, and community. We also examine our level of support and seek opportunities to better understand the AAPI community.',\n",
       "   '',\n",
       "   'In an effort to address real concerns and experiences, we sat down withArbeena Thapa, one of Codeup’s Financial Aid and Enrollment Managers.',\n",
       "   'Arbeena identifies as Nepali American and Desi. Arbeena’s parents immigrated to Texas in 1988 for better employment and educational opportunities. Arbeena’s older sister was five when they made the move to the US. Arbeena was born later, becoming the first in her family to be a US citizen.',\n",
       "   'At Codeup we take our efforts at inclusivity very seriously. After speaking with Arbeena, we were taught that the term AAPI excludes Desi-American individuals. Hence, we will now use the term Asian Pacific Islander Desi American (APIDA).',\n",
       "   'Here is how the rest of our conversation with Arbeena went!',\n",
       "   'How do you celebrate or connect with your heritage and cultural traditions?',\n",
       "   '“I celebrate Nepal’s version of Christmas or Dashain. This is a nine-day celebration also known as Dussehra. I grew up as Hindu and I identify as Hindu, this is a very large part of my heritage. “',\n",
       "   '“Other ways I connect with my culture include sharing food! Momos are South Asian Dumplings and they’re my favorite to make and share.”',\n",
       "   '“On my Asian American side, I am an advocate of immigrant justice and erasure within APIDA social or political movements. I participate in events to embrace my identity such as immigrant justice advocacy because I come from a mixed-status family. I’ve always been in a community with undocumented Asian immigrants. .”',\n",
       "   'What are some of the challenges you have faced as an APIDA individual, personally or professionally?',\n",
       "   '“I often struggle with being gendered as compliant or a pushover. Professionally, I am often stereotyped as meek, so I’ve been overlooked for leadership roles. We are seen as perpetually foreign; people tend to other us in that way, yet put us on a pedestal for what a model minority looks like. This has made me hesitant to share my heritage in the past because these assumptions get mapped onto me. ”',\n",
       "   'Can you describe some common barriers of entry that APIDA individuals, specifically women may face when trying to enter or advance in the workplace?',\n",
       "   '“Being overlooked for leadership. In the past, I have not been viewed as a leader. People sometimes have preconceived stereotypes of Asian women not being able to be bold, or being vocal can be mistaken for being too emotional. “',\n",
       "   'How do you believe microaggressions impact APIDA individuals in the workplace? Can you provide examples of such microaggressions?',\n",
       "   '“Erasure is big. To me, only saying ‘Merry Christmas’ isn’t inclusive to other religions. People are often resistant to saying ‘Happy Holidays,’ but saying Merry Christmas excludes, and does not appreciate my heritage. “',\n",
       "   '“Often microaggressions are not micro at all. They typically are not aggressive racialized violence, but the term ‘micro’ minimizes impact.”',\n",
       "   '“Some that I’ve heard are ‘What kind of Asian are you?’ or ‘Where are you from?’ This automatically makes me the ‘other’ and not seen as American. Even within the APIDA community, South Asians are overlooked as “Asian”.”',\n",
       "   'How important is representation, specifically APIDA representation, in organizational leadership positions?',\n",
       "   '“I want to say that it is important to have someone who looks like you in leadership roles, and it is, but those leaders may not share the same beliefs as you. Certain privileges such as wealth, resources, or lack of interaction with lower-socioeconomic-status Asian Americans may cause a difference in community politics. I do not think the bamboo ceiling is acceptable, but the company you work for plays a big part in your politics and belief alignment.”',\n",
       "   'How do you feel about code-switching, and have you ever felt it necessary to code-switch?',\n",
       "   '“I like sharing South Asian terms or connecting with others that have similar heritage and culture. A workplace that is welcoming to going into this sort of breakout is refreshing and makes space for us. However, having to code-switch could also mean a workplace that is not conducive and welcoming of other cultures. “',\n",
       "   'Finally, in your opinion, what long-term strategies can create lasting change in the workplace and ensure support, equality, and inclusion for APIDA individuals?',\n",
       "   '“Prior to a career in financial aid, I did a lot of research related to the post-9/11 immigration of the South Asian diaspora. This background made me heavily rely on grassroots organizing. Hire the people that want to innovate, hire the changemakers, hire the button-pushers. Reduce reliance on whiteness as change. This will become natural for the organization and become organizational change. Change comes from us on the ground.”',\n",
       "   'A huge thank you to Arbeena Thapa for sharing her experiences, and being vulnerable with us. Your words were inspiring and the opportunity to understand your perspective more has been valuable. We hope we can become better support for the APIDA community as we learn and grow on our journey of cultivating inclusive growth.']},\n",
       " {'title': 'Women in tech: Panelist Spotlight – Magdalena Rahn',\n",
       "  'content': ['Codeup is hosting aWomen in Tech Panelin honor of Women’s History Month on March 29th, 2023! To further celebrate, we’d like to spotlight each of our panelists leading up to the discussion to learn a bit about their respective experiences as women in the tech industry!',\n",
       "   '',\n",
       "   'Meet Magdalena!',\n",
       "   'Magdalena Rahnis a current Codeup student in a Data Science cohort in San Antonio, Texas. She has a professional background in cross-cultural communications, international business development, the wine industry and journalism. After serving in the US Navy, she decided to complement her professional skill set by attending the Data Science program at Codeup; she is set to graduate in March 2023. Magdalena is fluent in French, Bulgarian, Chinese-Mandarin, Spanish and Italian.',\n",
       "   'We asked Magdalena how Codeup impacted her career, and she replied “Codeup has provided a solid foundation in analytical processes, programming and data science methods, and it’s been an encouragement to have such supportive instructors and wonderful classmates.”',\n",
       "   'Don’t forget to tune in on March 29th to sit in on an insightful conversation with Magdalena.']},\n",
       " {'title': 'Women in tech: Panelist Spotlight – Rachel Robbins-Mayhill',\n",
       "  'content': ['Codeup is hosting aWomen in Tech Panelin honor of Women’s History Month on March 29th, 2023! To further celebrate, we’d like to spotlight each of our panelists leading up to the discussion to learn a bit about their respective experiences as women in the tech industry! Meet Rachel!',\n",
       "   'Rachel Robbins-Mayhillis a Decision Science Analyst I in San Antonio, Texas. Rachel has had a varied career that includes counseling, teaching, training, community development, and military operations. Her focus has always been on assessing needs, identifying solutions, and educating individuals and groups on aligning needs and solutions in different contexts. Rachel’s passion for data science stems from her belief that data is a powerful tool for communicating patterns that can lead to hope and growth in the future.',\n",
       "   'In June 2022, Rachel graduated from Codeup’s Innis cohort, where she honed her skills in data science. Shortly after, she started working as a Data Science Technical Writer with Apex Systems as a Contractor for USAA in July 2022. Her unconventional role allowed her to understand where her skills could be best utilized to support USAA in a non-contract role.',\n",
       "   'Rachel recently joined USAA’s Data Science Delivery team as a Decision Science Analyst I in February 2023. The team is focused on delivering machine learning models for fraud prevention, and Rachel’s particular role centers around providing strategic process solutions for the team in collaboration with Operational and Model Risk components.',\n",
       "   'In addition to her career, Rachel is currently pursuing a master’s degree in Applied Data Science from Syracuse University, further expanding her knowledge and skills in the field. Rachel is passionate about collaborating with individuals who share her belief in the potential of others and strive to achieve growth through logical, informed action. She welcomes LinkedIn connections and is excited about supporting the network of CodeUp alumni!',\n",
       "   'We asked Rachel how Codeup impacted her career, and she replied “Codeup delivered a comprehensive education in all facets of the data science pipeline, laying a strong foundation for me to build upon. Through repeated hands-on practice, I developed a reliable process that was immediately applicable in my job. Collaborative group projects were instrumental in helping me hone my skills in project management, allowing me to navigate complex data science projects with comfortability. Thanks to this invaluable experience, I was able to make significant strides in my career within just six months of graduating from Codeup.”',\n",
       "   'Don’t forget to tune in on March 29th to sit in on an insightful conversation.']},\n",
       " {'title': 'Women in Tech: Panelist Spotlight – Sarah Mellor',\n",
       "  'content': ['Codeup is hosting a Women in Tech Panel in honor of Women’s History Month on March 29th, 2023! To further celebrate, we’d like to spotlight each of our panelists leading up to the discussion to learn a bit about their respective experiences as women in the tech industry!',\n",
       "   'Meet Sarah!',\n",
       "   'Sarah Mellorcurrently works as the Director of People Operations. She joined Codeup four and a half years ago as an Admissions Manager. She went on to build out and lead the Marketing and Admissions team, while picking up People Ops tasks and projects here and there until moving over to lead the People Ops team two years ago. Prior to Codeup, she worked at education-focused non-profits in Washington, DC and Boulder, Colorado. She graduated from Wake Forest University.',\n",
       "   'We asked Sarah how Codeup has impacted her career, and her response was “I have absolutely loved having the privilege to grow alongside Codeup. In my time here across multiple different roles and departments, I’ve seen a lot of change. The consistent things have always been the high quality of passionate and hardworking people I get to work with; the impactful mission we get to work on; and the inspiring students who trust us with their career change.”',\n",
       "   'Don’t forget to tune in on March 29th to sit in on an insightful conversation.']},\n",
       " {'title': 'Women in Tech: Panelist Spotlight – Madeleine Capper',\n",
       "  'content': ['Codeup is hosting aWomen in Tech Panelin honor of Women’s History Month on March 29th, 2023! To further celebrate, we’d like to spotlight each of our panelists leading up to the discussion to learn a bit about their respective experiences as women in the tech industry!',\n",
       "   'Meet Madeleine!',\n",
       "   'Madeleine Capperis a Data Scientist in San Antonio, Texas. A long-standing San Antonio resident, she studied mathematics at the University of Texas San Antonio and has worked as a Data Scientist for Booz Allen Hamilton. Madeleine currently teaches Data Science at Codeup, where she works daily with burgeoning data professionals to help them actualize their career aspirations through technical education.',\n",
       "   'Madeleine attended Codeup as a student in early 2019 as a pupil in the very first Codeup Data Science cohort. The program proved immediately effective and she was the first student to obtain a data career out of the program. After working at Booz Allen Hamilton, Madeleine’s passion for education in conjunction with her appreciation for Codeup’s capacity for transformative life change brought her back to the institution in an instructional capacity, where she has been teaching for two years.',\n",
       "   'Don’t forget to tune in on March 29th to sit in on an insightful conversation.']},\n",
       " {'title': 'Black Excellence in Tech: Panelist Spotlight – Wilmarie De La Cruz Mejia',\n",
       "  'content': ['',\n",
       "   'Codeup is hosting a Black Excellence in Tech Panel in honor of Black History Month on February 22, 2023! To further celebrate, we’d like to spotlight each of our panelists leading up to the discussion to learn a bit about their respective experiences as black leaders in the tech industry!',\n",
       "   'Meet Wilmarie!',\n",
       "   'Wilmarie DeLa Cruz Mejiais a current Codeup student on the path to becoming a Full-Stack Web Developer at our Dallas, TX campus.',\n",
       "   'Wilmarie is a veteran expanding her knowledge of programming languages and technologies on her journey with Codeup.',\n",
       "   'We asked Wilmarie to share more about her experience at Codeup. She shares, “I was able to meet other people who were passionate about coding and be in a positive learning environment.”',\n",
       "   'We hope you canjoin uson February 22nd to sit in on an insightful conversation with Wilmarie and all of our panelists!']}]"
      ]
     },
     "execution_count": 8,
     "metadata": {},
     "output_type": "execute_result"
    }
   ],
   "source": [
    "def get_blog_articles(url='https://codeup.com/blog/'):\n",
    "    # Make a soup variable holding the response content\n",
    "    soup = create_soup(url)\n",
    "    \n",
    "    # list of links\n",
    "    blog_links = [element[\"href\"] for element in soup.find_all(\"a\", class_=\"more-link\")]\n",
    "\n",
    "    article_dict = []\n",
    "    for link in blog_links:\n",
    "        # get access to pages\n",
    "        soup = create_soup(link)\n",
    "        # title\n",
    "        title = soup.h1.text\n",
    "        # content info\n",
    "        text_list = [p.get_text(strip=True) for div in soup.find_all(\"div\", class_=\"entry-content\") for p in div.find_all(\"p\")]\n",
    "        # append dict to list\n",
    "        content_dict = {\"title\": title, \"content\": text_list}\n",
    "        article_dict.append(content_dict)\n",
    "    return article_dict\n",
    "\n",
    "\n",
    "\n",
    "get_blog_articles()\n",
    "    "
   ]
  },
  {
   "cell_type": "markdown",
   "id": "64fb9093",
   "metadata": {},
   "source": [
    "2. News Articles\n",
    "\n",
    "We will now be scraping text data from inshorts, a website that provides a brief overview of many different topics.\n",
    "\n",
    "Write a function that scrapes the news articles for the following topics:\n",
    "\n",
    "Business\n",
    "Sports\n",
    "Technology\n",
    "Entertainment\n",
    "The end product of this should be a function named get_news_articles that returns a list of dictionaries, where each dictionary has this shape:\n",
    "\n",
    "\n",
    "{\n",
    "    \n",
    "    'title': 'The article title',\n",
    "    \n",
    "    'content': 'The article content',\n",
    "    \n",
    "    'category': 'business' # for example\n",
    "    \n",
    "}\n"
   ]
  },
  {
   "cell_type": "code",
   "execution_count": 228,
   "id": "02107454",
   "metadata": {},
   "outputs": [],
   "source": [
    "soup = create_soup(\"https://blog.inshorts.com/\")"
   ]
  },
  {
   "cell_type": "code",
   "execution_count": 304,
   "id": "92345193",
   "metadata": {},
   "outputs": [
    {
     "name": "stdout",
     "output_type": "stream",
     "text": [
      "uncategorized\n",
      "uncategorized\n",
      "uncategorized\n",
      "uncategorized\n",
      "uncategorized\n",
      "announcements\n",
      "announcements\n",
      "announcements\n",
      "announcements\n",
      "announcements\n"
     ]
    },
    {
     "data": {
      "text/plain": [
       "['uncategorized',\n",
       " 'uncategorized',\n",
       " 'uncategorized',\n",
       " 'uncategorized',\n",
       " 'uncategorized',\n",
       " 'announcements',\n",
       " 'announcements',\n",
       " 'announcements',\n",
       " 'announcements',\n",
       " 'announcements']"
      ]
     },
     "execution_count": 304,
     "metadata": {},
     "output_type": "execute_result"
    }
   ],
   "source": [
    "elements2 = soup.find_all(\"article\")\n",
    "# elements2[\"class\"]\n",
    "\n",
    "for i in elements2:\n",
    "    print(i[\"class\"][7][9:])\n",
    "\n",
    "# list comp of cats\n",
    "category_list = [i[\"class\"][7][9:] for i in soup.find_all(\"article\")]\n",
    "\n",
    "    \n",
    "\n",
    "# for i in elements2:\n",
    "#     i[0]"
   ]
  },
  {
   "cell_type": "code",
   "execution_count": 270,
   "id": "5f7004ac",
   "metadata": {},
   "outputs": [
    {
     "name": "stdout",
     "output_type": "stream",
     "text": [
      "\n",
      "\n",
      "<article class=\"post-excerpt post-734 post type-post status-publish format-standard hentry category-uncategorized entry\" id=\"post-734\">\n",
      "<header class=\"entry-header default-max-width\">\n",
      "<h2 class=\"entry-title\"><a href=\"https://blog.inshorts.com/2022/01/27/around-86-indians-feel-voting-should-be-made-compulsory-public-poll/\" rel=\"bookmark\">86% Indians feel voting should be made compulsory: Public App Survey￼</a></h2> </header><!-- .entry-header -->\n",
      "<div class=\"entry-content\">\n",
      "<p>On the occasion of the 12th National Voters’ Day, Public App, India’s largest location-based social network, conducted a survey to understand how seriously Indians take their voting rights and on what factors they evaluate for which candidate to choose. This pan-India poll was conducted with a sizable data pool of over 4 lakh people. As…<span class=\"excerpt-more-link\"><a class=\"more-link\" href=\"https://blog.inshorts.com/2022/01/27/around-86-indians-feel-voting-should-be-made-compulsory-public-poll/\">More <svg aria-hidden=\"true\" class=\"svg-icon\" fill=\"none\" focusable=\"false\" height=\"24\" role=\"img\" viewbox=\"0 0 24 24\" width=\"24\" xmlns=\"http://www.w3.org/2000/svg\"><path clip-rule=\"evenodd\" d=\"M6.96954 10.2804L11.9999 15.3107L17.0302 10.2804L15.9695 9.21973L11.9999 13.1894L8.0302 9.21973L6.96954 10.2804Z\" fill=\"currentColor\" fill-rule=\"evenodd\"></path></svg></a></span></p>\n",
      "</div><!-- .entry-content -->\n",
      "</article>\n",
      " #post-${ID} \n",
      "\n",
      "\n",
      "<article class=\"post-excerpt post-712 post type-post status-publish format-standard hentry category-uncategorized entry\" id=\"post-712\">\n",
      "<header class=\"entry-header default-max-width\">\n",
      "<h2 class=\"entry-title\"><a href=\"https://blog.inshorts.com/2021/12/27/43-say-they-kept-their-new-years-resolution-last-year-public-ki-awaaz-poll/\" rel=\"bookmark\">43% say they kept their New Year’s resolution last year: Public ki Awaaz poll</a></h2> </header><!-- .entry-header -->\n",
      "<div class=\"entry-content\">\n",
      "<p>As 2021 draws to a close end, users of location-based social network Public weighed in their views on the age-old tradition of making New Year’s resolutions. A New Year’s resolution is a common practice in which a person resolves to continue good habits, change an undesired trait or behavior, accomplish a personal goal, or otherwise…<span class=\"excerpt-more-link\"><a class=\"more-link\" href=\"https://blog.inshorts.com/2021/12/27/43-say-they-kept-their-new-years-resolution-last-year-public-ki-awaaz-poll/\">More <svg aria-hidden=\"true\" class=\"svg-icon\" fill=\"none\" focusable=\"false\" height=\"24\" role=\"img\" viewbox=\"0 0 24 24\" width=\"24\" xmlns=\"http://www.w3.org/2000/svg\"><path clip-rule=\"evenodd\" d=\"M6.96954 10.2804L11.9999 15.3107L17.0302 10.2804L15.9695 9.21973L11.9999 13.1894L8.0302 9.21973L6.96954 10.2804Z\" fill=\"currentColor\" fill-rule=\"evenodd\"></path></svg></a></span></p>\n",
      "</div><!-- .entry-content -->\n",
      "</article>\n",
      " #post-${ID} \n",
      "\n",
      "\n",
      "<article class=\"post-excerpt post-689 post type-post status-publish format-standard hentry category-uncategorized entry\" id=\"post-689\">\n",
      "<header class=\"entry-header default-max-width\">\n",
      "<h2 class=\"entry-title\"><a href=\"https://blog.inshorts.com/2021/11/23/68-approve-of-centres-decision-to-withdraw-farm-bills-public-ki-awaaz-poll/\" rel=\"bookmark\">68% approve of Centre’s decision to withdraw farm bills: Public ki Awaaz poll</a></h2> </header><!-- .entry-header -->\n",
      "<div class=\"entry-content\">\n",
      "<p>While addressing the nation on November 19, Prime Minister Narendra Modi announced that the three contentious farm laws -The Farmers’ Produce Trade and Commerce (Promotion and Facilitation) Bill, 2020, The Farmers (Empowerment and Protection) Agreement of Price Assurance and Farm Services Bill, 2020 &amp; The Essential Commodities (Amendment) Bill, 2020 – would be repealed in…<span class=\"excerpt-more-link\"><a class=\"more-link\" href=\"https://blog.inshorts.com/2021/11/23/68-approve-of-centres-decision-to-withdraw-farm-bills-public-ki-awaaz-poll/\">More <svg aria-hidden=\"true\" class=\"svg-icon\" fill=\"none\" focusable=\"false\" height=\"24\" role=\"img\" viewbox=\"0 0 24 24\" width=\"24\" xmlns=\"http://www.w3.org/2000/svg\"><path clip-rule=\"evenodd\" d=\"M6.96954 10.2804L11.9999 15.3107L17.0302 10.2804L15.9695 9.21973L11.9999 13.1894L8.0302 9.21973L6.96954 10.2804Z\" fill=\"currentColor\" fill-rule=\"evenodd\"></path></svg></a></span></p>\n",
      "</div><!-- .entry-content -->\n",
      "</article>\n",
      " #post-${ID} \n",
      "\n",
      "\n",
      "<article class=\"post-excerpt post-646 post type-post status-publish format-standard hentry category-uncategorized entry\" id=\"post-646\">\n",
      "<header class=\"entry-header default-max-width\">\n",
      "<h2 class=\"entry-title\"><a href=\"https://blog.inshorts.com/2021/10/19/65-confident-dhoni-will-help-indias-performance-at-t20-public-ki-awaaz-poll/\" rel=\"bookmark\">65% confident Dhoni will help improve India’s performance at T20: Public Ki Awaaz poll</a></h2> </header><!-- .entry-header -->\n",
      "<div class=\"entry-content\">\n",
      "<p>The latest round of opinion polls conducted on location-based social network Public has revealed that at 64.6%, cricket fans strongly agree that mentor MS Dhoni will help improve India’s prospects at T20. The poll gauged opinions of Bharat users ahead of the ICC Men’s T20 World Cup 2021. This year, BCCI is the host of…<span class=\"excerpt-more-link\"><a class=\"more-link\" href=\"https://blog.inshorts.com/2021/10/19/65-confident-dhoni-will-help-indias-performance-at-t20-public-ki-awaaz-poll/\">More <svg aria-hidden=\"true\" class=\"svg-icon\" fill=\"none\" focusable=\"false\" height=\"24\" role=\"img\" viewbox=\"0 0 24 24\" width=\"24\" xmlns=\"http://www.w3.org/2000/svg\"><path clip-rule=\"evenodd\" d=\"M6.96954 10.2804L11.9999 15.3107L17.0302 10.2804L15.9695 9.21973L11.9999 13.1894L8.0302 9.21973L6.96954 10.2804Z\" fill=\"currentColor\" fill-rule=\"evenodd\"></path></svg></a></span></p>\n",
      "</div><!-- .entry-content -->\n",
      "</article>\n",
      " #post-${ID} \n",
      "\n",
      "\n",
      "<article class=\"post-excerpt post-598 post type-post status-publish format-standard hentry category-uncategorized entry\" id=\"post-598\">\n",
      "<header class=\"entry-header default-max-width\">\n",
      "<h2 class=\"entry-title\"><a href=\"https://blog.inshorts.com/2021/10/08/festivities-in-the-air-but-indians-still-cautious-with-money-public-app-survey/\" rel=\"bookmark\">Festivities in the air but Indians still cautious with money: Public App Survey</a></h2> </header><!-- .entry-header -->\n",
      "<div class=\"entry-content\">\n",
      "<p>5th October 2021: With festive season being just around the corner, a recent consumer poll by Public app with over 4 lakh respondents has revealed interesting social and economical consumer insights this year which has also been compared to a similar poll that was conducted in 2020. The poll highlights that while people are considerably…<span class=\"excerpt-more-link\"><a class=\"more-link\" href=\"https://blog.inshorts.com/2021/10/08/festivities-in-the-air-but-indians-still-cautious-with-money-public-app-survey/\">More <svg aria-hidden=\"true\" class=\"svg-icon\" fill=\"none\" focusable=\"false\" height=\"24\" role=\"img\" viewbox=\"0 0 24 24\" width=\"24\" xmlns=\"http://www.w3.org/2000/svg\"><path clip-rule=\"evenodd\" d=\"M6.96954 10.2804L11.9999 15.3107L17.0302 10.2804L15.9695 9.21973L11.9999 13.1894L8.0302 9.21973L6.96954 10.2804Z\" fill=\"currentColor\" fill-rule=\"evenodd\"></path></svg></a></span></p>\n",
      "</div><!-- .entry-content -->\n",
      "</article>\n",
      " #post-${ID} \n",
      "\n",
      "\n",
      "<article class=\"post-excerpt post-241 post type-post status-publish format-standard hentry category-announcements entry\" id=\"post-241\">\n",
      "<header class=\"entry-header default-max-width\">\n",
      "<h2 class=\"entry-title\"><a href=\"https://blog.inshorts.com/2021/09/01/72-confident-that-covid-19-vaccines-are-safe-effective-against-coronavirus-public-ki-awaaz-poll/\" rel=\"bookmark\">72% confident that Covid-19 vaccines are safe &amp; effective against coronavirus: Public Ki Awaaz Poll</a></h2> </header><!-- .entry-header -->\n",
      "<div class=\"entry-content\">\n",
      "<p>Majority (72%) believes that Covid-19 vaccines are safe and effective against coronavirus 8.8% of the respondents expressed hesitation in getting vaccinated About 25% responded positively to being fully vaccinated with both doses of vaccine In January 2021, India kicked off the world’s largest Covid-19 vaccination drive to vaccinate its nearly 90 crore eligible population. According…<span class=\"excerpt-more-link\"><a class=\"more-link\" href=\"https://blog.inshorts.com/2021/09/01/72-confident-that-covid-19-vaccines-are-safe-effective-against-coronavirus-public-ki-awaaz-poll/\">More <svg aria-hidden=\"true\" class=\"svg-icon\" fill=\"none\" focusable=\"false\" height=\"24\" role=\"img\" viewbox=\"0 0 24 24\" width=\"24\" xmlns=\"http://www.w3.org/2000/svg\"><path clip-rule=\"evenodd\" d=\"M6.96954 10.2804L11.9999 15.3107L17.0302 10.2804L15.9695 9.21973L11.9999 13.1894L8.0302 9.21973L6.96954 10.2804Z\" fill=\"currentColor\" fill-rule=\"evenodd\"></path></svg></a></span></p>\n",
      "</div><!-- .entry-content -->\n",
      "</article>\n",
      " #post-${ID} \n",
      "\n",
      "\n",
      "<article class=\"post-excerpt post-232 post type-post status-publish format-standard hentry category-announcements entry\" id=\"post-232\">\n",
      "<header class=\"entry-header default-max-width\">\n",
      "<h2 class=\"entry-title\"><a href=\"https://blog.inshorts.com/2021/07/23/68-confident-india-will-improve-performance-at-tokyo-olympics-compared-to-rio-public-ki-awaaz-poll/\" rel=\"bookmark\">68% confident India will improve performance at Tokyo Olympics compared to Rio: Public ki Awaaz Poll</a></h2> </header><!-- .entry-header -->\n",
      "<div class=\"entry-content\">\n",
      "<p>Nearly 76% see the world returning to normalcy with the Tokyo Olympics; 53% of the respondents are very excited. 22.74% and 21.98% are keen to watch Archery and Wrestling respectively, followed by Badminton (13.55%) and Boxing (8%). 33.71% said they’ll watch some other sport. Majority (74%) believes the Games help bring the country together and…<span class=\"excerpt-more-link\"><a class=\"more-link\" href=\"https://blog.inshorts.com/2021/07/23/68-confident-india-will-improve-performance-at-tokyo-olympics-compared-to-rio-public-ki-awaaz-poll/\">More <svg aria-hidden=\"true\" class=\"svg-icon\" fill=\"none\" focusable=\"false\" height=\"24\" role=\"img\" viewbox=\"0 0 24 24\" width=\"24\" xmlns=\"http://www.w3.org/2000/svg\"><path clip-rule=\"evenodd\" d=\"M6.96954 10.2804L11.9999 15.3107L17.0302 10.2804L15.9695 9.21973L11.9999 13.1894L8.0302 9.21973L6.96954 10.2804Z\" fill=\"currentColor\" fill-rule=\"evenodd\"></path></svg></a></span></p>\n",
      "</div><!-- .entry-content -->\n",
      "</article>\n",
      " #post-${ID} \n",
      "\n",
      "\n",
      "<article class=\"post-excerpt post-34 post type-post status-publish format-standard hentry category-announcements entry\" id=\"post-34\">\n",
      "<header class=\"entry-header default-max-width\">\n",
      "<h2 class=\"entry-title\"><a href=\"https://blog.inshorts.com/2021/01/14/47-find-whatsapps-updated-privacy-policy-unacceptable-says-inshorts-poll/\" rel=\"bookmark\">47% find Whatsapp’s updated privacy policy unacceptable says Inshorts poll</a></h2> </header><!-- .entry-header -->\n",
      "<div class=\"entry-content\">\n",
      "<p>January 12, 2021 With the debate raging over WhatsApp’s updated privacy policy in India, a whopping 47% respondents of an Inshorts poll said that they would not accept the policy and will look for alternatives of the messaging app. Around 14% respondents did not see any privacy concerns and said that they will accept and…<span class=\"excerpt-more-link\"><a class=\"more-link\" href=\"https://blog.inshorts.com/2021/01/14/47-find-whatsapps-updated-privacy-policy-unacceptable-says-inshorts-poll/\">More <svg aria-hidden=\"true\" class=\"svg-icon\" fill=\"none\" focusable=\"false\" height=\"24\" role=\"img\" viewbox=\"0 0 24 24\" width=\"24\" xmlns=\"http://www.w3.org/2000/svg\"><path clip-rule=\"evenodd\" d=\"M6.96954 10.2804L11.9999 15.3107L17.0302 10.2804L15.9695 9.21973L11.9999 13.1894L8.0302 9.21973L6.96954 10.2804Z\" fill=\"currentColor\" fill-rule=\"evenodd\"></path></svg></a></span></p>\n",
      "</div><!-- .entry-content -->\n",
      "</article>\n",
      " #post-${ID} \n",
      "\n",
      "\n",
      "<article class=\"post-excerpt post-40 post type-post status-publish format-standard hentry category-announcements entry\" id=\"post-40\">\n",
      "<header class=\"entry-header default-max-width\">\n",
      "<h2 class=\"entry-title\"><a href=\"https://blog.inshorts.com/2021/01/13/covid-or-no-covid-indians-are-ready-to-unpause-in-2021/\" rel=\"bookmark\">COVID or no COVID: Indians are ready to unpause in 2021</a></h2> </header><!-- .entry-header -->\n",
      "<div class=\"entry-content\">\n",
      "<p>January 13, 2021 As 2021 gets off to a shaky but hopeful start with everyone looking to put 2020 behind them, Inshorts conducted a New Year poll with over three lakh respondents giving their opinion on life as they see it in the new year. Vaccine rollouts notwithstanding, about 70% respondents said that the COVID-19…<span class=\"excerpt-more-link\"><a class=\"more-link\" href=\"https://blog.inshorts.com/2021/01/13/covid-or-no-covid-indians-are-ready-to-unpause-in-2021/\">More <svg aria-hidden=\"true\" class=\"svg-icon\" fill=\"none\" focusable=\"false\" height=\"24\" role=\"img\" viewbox=\"0 0 24 24\" width=\"24\" xmlns=\"http://www.w3.org/2000/svg\"><path clip-rule=\"evenodd\" d=\"M6.96954 10.2804L11.9999 15.3107L17.0302 10.2804L15.9695 9.21973L11.9999 13.1894L8.0302 9.21973L6.96954 10.2804Z\" fill=\"currentColor\" fill-rule=\"evenodd\"></path></svg></a></span></p>\n",
      "</div><!-- .entry-content -->\n",
      "</article>\n",
      " #post-${ID} \n",
      "\n",
      "\n",
      "<article class=\"post-excerpt post-43 post type-post status-publish format-standard hentry category-announcements entry\" id=\"post-43\">\n",
      "<header class=\"entry-header default-max-width\">\n",
      "<h2 class=\"entry-title\"><a href=\"https://blog.inshorts.com/2020/08/08/inshorts-launches-location-based-social-network-public-logs-a-whopping-10-mn-users-within-6-months/\" rel=\"bookmark\">Inshorts launches location-based social network Public, logs a whopping 10 Mn users within 6 months</a></h2> </header><!-- .entry-header -->\n",
      "<div class=\"entry-content\">\n",
      "<p>Announces continued growth momentum; records 300% QoQ growth 1 million videos are being created per month on Public National, January 08, 2020 – Location-based social network Public has registered a whopping 10 million users within 6 months of beta launch, becoming the fastest Indian social app to cross the milestone. Public allows people to record…<span class=\"excerpt-more-link\"><a class=\"more-link\" href=\"https://blog.inshorts.com/2020/08/08/inshorts-launches-location-based-social-network-public-logs-a-whopping-10-mn-users-within-6-months/\">More <svg aria-hidden=\"true\" class=\"svg-icon\" fill=\"none\" focusable=\"false\" height=\"24\" role=\"img\" viewbox=\"0 0 24 24\" width=\"24\" xmlns=\"http://www.w3.org/2000/svg\"><path clip-rule=\"evenodd\" d=\"M6.96954 10.2804L11.9999 15.3107L17.0302 10.2804L15.9695 9.21973L11.9999 13.1894L8.0302 9.21973L6.96954 10.2804Z\" fill=\"currentColor\" fill-rule=\"evenodd\"></path></svg></a></span></p>\n",
      "</div><!-- .entry-content -->\n",
      "</article>\n",
      " #post-${ID} \n",
      "\n",
      "\n",
      "<nav aria-label=\"Posts\" class=\"navigation pagination\">\n",
      "<h2 class=\"screen-reader-text\">Posts navigation</h2>\n",
      "<div class=\"nav-links\"><span aria-current=\"page\" class=\"page-numbers current\">1</span>\n",
      "<a class=\"page-numbers\" href=\"https://blog.inshorts.com/page/2/\">2</a>\n",
      "<a class=\"page-numbers\" href=\"https://blog.inshorts.com/page/3/\">3</a>\n",
      "<span class=\"page-numbers dots\">…</span>\n",
      "<a class=\"page-numbers\" href=\"https://blog.inshorts.com/page/6/\">6</a>\n",
      "<a class=\"next page-numbers\" href=\"https://blog.inshorts.com/page/2/\"><span class=\"nav-next-text\">Older posts</span> <svg aria-hidden=\"true\" class=\"svg-icon\" fill=\"none\" focusable=\"false\" height=\"22\" role=\"img\" viewbox=\"0 0 24 24\" width=\"22\" xmlns=\"http://www.w3.org/2000/svg\"><path clip-rule=\"evenodd\" d=\"M11.0303 17.0303L16.0607 11.9999L11.0303 6.96961L9.96968 8.03027L13.9394 11.9999L9.96968 15.9696L11.0303 17.0303Z\" fill=\"currentColor\" fill-rule=\"evenodd\"></path></svg></a></div>\n",
      "</nav>\n",
      "\n",
      "\n"
     ]
    }
   ],
   "source": [
    "elements2 = soup.find(\"main\", class_=\"site-main\")\n",
    "for i in elements2:\n",
    "    print(i)"
   ]
  },
  {
   "cell_type": "code",
   "execution_count": 251,
   "id": "7b6758c7",
   "metadata": {},
   "outputs": [],
   "source": [
    "elements = soup.find_all(\"h2\", class_=\"entry-title\")\n",
    "for i in elements:\n",
    "    i.find(\"a\")[\"href\"]\n",
    "# list comprehension version\n",
    "links_list = [i.find(\"a\")[\"href\"] for i in soup.find_all(\"h2\", class_=\"entry-title\")]"
   ]
  },
  {
   "cell_type": "code",
   "execution_count": 11,
   "id": "894e3b6c",
   "metadata": {},
   "outputs": [
    {
     "data": {
      "text/plain": [
       "[<div class=\"nav-links\"><span aria-current=\"page\" class=\"page-numbers current\">1</span>\n",
       " <a class=\"page-numbers\" href=\"https://blog.inshorts.com/page/2/\">2</a>\n",
       " <a class=\"page-numbers\" href=\"https://blog.inshorts.com/page/3/\">3</a>\n",
       " <span class=\"page-numbers dots\">…</span>\n",
       " <a class=\"page-numbers\" href=\"https://blog.inshorts.com/page/6/\">6</a>\n",
       " <a class=\"next page-numbers\" href=\"https://blog.inshorts.com/page/2/\"><span class=\"nav-next-text\">Older posts</span> <svg aria-hidden=\"true\" class=\"svg-icon\" fill=\"none\" focusable=\"false\" height=\"22\" role=\"img\" viewbox=\"0 0 24 24\" width=\"22\" xmlns=\"http://www.w3.org/2000/svg\"><path clip-rule=\"evenodd\" d=\"M11.0303 17.0303L16.0607 11.9999L11.0303 6.96961L9.96968 8.03027L13.9394 11.9999L9.96968 15.9696L11.0303 17.0303Z\" fill=\"currentColor\" fill-rule=\"evenodd\"></path></svg></a></div>]"
      ]
     },
     "execution_count": 11,
     "metadata": {},
     "output_type": "execute_result"
    }
   ],
   "source": [
    "url=\"https://blog.inshorts.com/\"\n",
    "soup = create_soup(url)\n",
    "soup.find_all(\"div\", class_=\"nav-links\")"
   ]
  },
  {
   "cell_type": "code",
   "execution_count": 38,
   "id": "318cd521",
   "metadata": {},
   "outputs": [
    {
     "name": "stdout",
     "output_type": "stream",
     "text": [
      "https://blog.inshorts.com/page/1/\n",
      "https://blog.inshorts.com/page/2/\n",
      "https://blog.inshorts.com/page/3/\n",
      "https://blog.inshorts.com/page/4/\n",
      "https://blog.inshorts.com/page/5/\n",
      "https://blog.inshorts.com/page/6/\n"
     ]
    }
   ],
   "source": [
    "for i in range(1,7):\n",
    "    url = \"https://blog.inshorts.com/\"\n",
    "    print(f\"{url}page/{i}/\")\n",
    "    \n",
    "pages = [f\"https://blog.inshorts.com/page/{i}/\" for i in range(2,7)]"
   ]
  },
  {
   "cell_type": "code",
   "execution_count": 39,
   "id": "dc6d7551",
   "metadata": {},
   "outputs": [],
   "source": [
    "def get_news_articles(url=\"https://blog.inshorts.com/\"):\n",
    "    pages = [f\"{url}page/{i}/\" for i in range(2,7)]\n",
    "    for p in pages:\n",
    "        soup = create_soup(p)\n",
    "    \n",
    "  \n",
    "        # list of links from website\n",
    "        links_list = [i.find(\"a\")[\"href\"] for i in soup.find_all(\"h2\", class_=\"entry-title\")]\n",
    "        category_list = [i[\"class\"][7] for i in soup.find_all(\"article\")]\n",
    "        article_dict = []\n",
    "        for link in links_list:\n",
    "            # get access to pages\n",
    "            soup = create_soup(link)\n",
    "            # title\n",
    "            title = soup.h1.text\n",
    "            # content info\n",
    "            text_list = [p.get_text(strip=True) for div in soup.find_all(\"div\", class_=\"entry-content\") for p in div.find_all(\"p\")]\n",
    "            # list of category names\n",
    "            category_list = [i[\"class\"][6][9:] for i in soup.find_all(\"article\")]\n",
    "            # append dict to list\n",
    "\n",
    "            content_dict = {\"title\": title, \"content\": text_list, \"category\": category_list}\n",
    "            article_dict.append(content_dict)\n",
    "    return article_dict"
   ]
  },
  {
   "cell_type": "code",
   "execution_count": 35,
   "id": "9a740b73",
   "metadata": {},
   "outputs": [],
   "source": [
    "def get_news_articles(url=\"https://blog.inshorts.com/\"):\n",
    "    soup = create_soup(url)\n",
    "    \n",
    "    # list of links from website\n",
    "    links_list = [i.find(\"a\")[\"href\"] for i in soup.find_all(\"h2\", class_=\"entry-title\")]\n",
    "    category_list = [i[\"class\"][7] for i in soup.find_all(\"article\")]\n",
    "    article_dict = []\n",
    "    for link in links_list:\n",
    "        # get access to pages\n",
    "        soup = create_soup(link)\n",
    "        # title\n",
    "        title = soup.h1.text\n",
    "        # content info\n",
    "        text_list = [p.get_text(strip=True) for div in soup.find_all(\"div\", class_=\"entry-content\") for p in div.find_all(\"p\")]\n",
    "        # list of category names\n",
    "        category_list = [i[\"class\"][6][9:] for i in soup.find_all(\"article\")]\n",
    "        # append dict to list\n",
    "        \n",
    "        content_dict = {\"title\": title, \"content\": text_list, \"category\": category_list}\n",
    "        article_dict.append(content_dict)\n",
    "    return article_dict\n",
    "\n",
    "    "
   ]
  },
  {
   "cell_type": "code",
   "execution_count": 40,
   "id": "780c4bf0",
   "metadata": {},
   "outputs": [
    {
     "data": {
      "text/plain": [
       "[{'title': 'Inshorts is looking for writers to join the content team',\n",
       "  'content': ['Content aggregator app inshorts, which is India’s highest-rated news app, is looking for people to join its content team. Applications are invited for various positions, starting from Sub-editor to Associate Editor. All positions are full-time, based out of Noida (NCR).',\n",
       "   'Qualifications required:',\n",
       "   ''],\n",
       "  'category': ['announcements']},\n",
       " {'title': 'Correction',\n",
       "  'content': ['This is with reference to a short titled ‘Rats kill an infant at a Telangana govt hospital’ dated August 27, 2015 originally sourced from The Hindu. The short erroneously claimed that the incident occurred in a Telangana hospital while the actual incident took place in Guntur, Andhra Pradesh. Inshorts unconditionally apologizes to our readers and the Telangana government for this error in sourcing.'],\n",
       "  'category': ['announcements']},\n",
       " {'title': 'News in Shorts rebrands as inshorts',\n",
       "  'content': ['Way back in 2013, we had started News in Shorts with the promise that we will deliver crisp news articles within 60 words. In our journey towards fulfilling that promise and also the larger promise of delivering a news reading experience which is simple for our users,we have a come a long way.',\n",
       "   'With the current release already waiting in the app stores for you to update,we believe it’s time for us to evolve and look beyond which is traditionallyconsidered news.',\n",
       "   'Our vision is to make the world a more informed place by providing users relevant content in the most easy-to-consume format which we call Shorts.',\n",
       "   'We believe that all relevant content is informative for users, be it a new video documentary worth watching, a new blog post worth reading, a new product worth using and a lot more.',\n",
       "   'Hence, “inshorts”.'],\n",
       "  'category': ['announcements']},\n",
       " {'title': 'News in Shorts become No 1 news app on App Store',\n",
       "  'content': ['Replacing Times of India, mobile news app News in Shorts became the Rank 1 news app on Apple’s “App Store” on Wednesday. Times of India and NewsHunt are at Rank 2 and 3 respectively. The company, which recently closed a funding of $20 million, plans to launch a revamped app with a much better user experience in the coming weeks.'],\n",
       "  'category': ['announcements']},\n",
       " {'title': 'News in Shorts raises $20M from Tiger Global',\n",
       "  'content': ['During our college days, we noticed that most of our friends were not even aware of the basic happenings of the country and around the world. Although there were many media houses who used to write a lot of informative news, probably it was not being served in the manner which was easy to consume for this genre of users. Reporting and writing news versus delivering news in an easily consumable manner are two entirely different challenges.',\n",
       "   'The problem of delivering right content to the right person in the right format was unsolved back then. The idea to ease the process of delivering news, was simple- write the gist of the news in 60 words or less and deliver it to the user in an extremely simple way.',\n",
       "   'Media houses are experts in reporting and writing in-depth stories. So every brief about a news is linked to one of the media houses who has done an in-depth coverage about that story.',\n",
       "   'The goal is simple, make the news browsing easy for users, and help the users discover in-depth and informative content from the media houses. Writing a well-informed, detailed coverage is tedious task and takes a lot of effort. We want people to discover that piece of news, and appreciate the effort of the writer.',\n",
       "   'We have partly been able to do that as both users as well as media houses have started to appreciate the work. We recently crossed the one million downloads mark, and are currently the highest rated news app across the globe (in Play Store), which shows the kind of love our users are giving us.',\n",
       "   'After this round of investment, we will be able to deliver a much better experience going forward.',\n",
       "   'Our promise of delivering the best news reading experience by providing the right content to the right person in the right format stays and will continue to stay.'],\n",
       "  'category': ['announcements']},\n",
       " {'title': 'News in Shorts now has one million users',\n",
       "  'content': ['News in Shorts, the news app which guarantees to deliver news articles in 60 words or less, crossed the million downloads mark on Google Play Store on Tuesday. Notably, the app is currently ranked No. 2 in India on Play Store (News and Magazine section). The app was launched in September 2013 and is the brainchild of Azhar Iqubal, Anunay Arunav and Deepit Purkayastha.',\n",
       "   'The Noida-based mobile-only news service provider delivers the glimpse of every news article within 60 words. The service is currently available in only English and is centred for Indian users. The company counts Tiger Global, Sachin and Binny Bansal of Flipkart and Ankush, Gaurav and Manish of Travel Boutique Online and Rebright Partners as their investors.The company recently raised Rs 25 crore (USD 4 million) Series A round of funding led by Tiger Global. Earlier, it had raised a seed round of funding in July 2014, led by angel investors Gaurav Bhatnagar, Ankush Nijhawan, Manish Dhingra, Sachin and Binny Bansal (Founders of Flipkart), and Times Internet.'],\n",
       "  'category': ['announcements']},\n",
       " {'title': 'News in Shorts is looking for Content Analysts',\n",
       "  'content': ['News in Shorts, a company which counts Tiger Global, Sachin and Binny Bansal of Flipkart and Ankush, Gaurav and Manish of Travel Boutique Online as its investors, is hiring content analysts. This is a full-time position based in Noida. The company is looking for people withcommand over the English language, good general awarenessandsound logical skills. There are several perks of working with the News in Shorts team, a few of them being:',\n",
       "   '100% hike in CTCor a7-digit salary package(whichever is higher)',\n",
       "   'and',\n",
       "   'free food of choiceduring office hours (there are already plenty of food varieties available, but if you want, you have the freedom to order food from wherever you want).',\n",
       "   'The company also provides all their team members with aphone of their choice.',\n",
       "   'The work freedom includesno-leave policyi.e. you work if you wish or enjoy if you want; no one will ask you anything.',\n",
       "   'In a nutshell, you haveall the freedom till the time you are working responsibly.Interested applicants can send their resumes atcareers@newsinshorts.com'],\n",
       "  'category': ['careers']}]"
      ]
     },
     "execution_count": 40,
     "metadata": {},
     "output_type": "execute_result"
    }
   ],
   "source": [
    "get_news_articles()"
   ]
  },
  {
   "cell_type": "code",
   "execution_count": null,
   "id": "b847e205",
   "metadata": {},
   "outputs": [],
   "source": []
  }
 ],
 "metadata": {
  "kernelspec": {
   "display_name": "Python 3 (ipykernel)",
   "language": "python",
   "name": "python3"
  },
  "language_info": {
   "codemirror_mode": {
    "name": "ipython",
    "version": 3
   },
   "file_extension": ".py",
   "mimetype": "text/x-python",
   "name": "python",
   "nbconvert_exporter": "python",
   "pygments_lexer": "ipython3",
   "version": "3.9.13"
  }
 },
 "nbformat": 4,
 "nbformat_minor": 5
}
