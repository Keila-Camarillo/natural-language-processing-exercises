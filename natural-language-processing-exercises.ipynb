{
 "cells": [
  {
   "cell_type": "code",
   "execution_count": 5,
   "id": "269dd5c7",
   "metadata": {},
   "outputs": [],
   "source": [
    "import pandas as pd\n",
    "import numpy as np\n",
    "\n",
    "import re"
   ]
  },
  {
   "cell_type": "markdown",
   "id": "485d73d4",
   "metadata": {},
   "source": [
    "1. Write a function named is_vowel. It should accept a string as input and use a regular expression to determine if the passed string is a vowel. While not explicity mentioned in the lesson, you can treat the result of re.search as a boolean value that indicates whether or not the regular expression matches the given string."
   ]
  },
  {
   "cell_type": "code",
   "execution_count": 16,
   "id": "d66acca7",
   "metadata": {},
   "outputs": [],
   "source": [
    "def is_vowel(string):\n",
    "    return bool(re.search(r'^[aeiou]$', string, re.IGNORECASE))"
   ]
  },
  {
   "cell_type": "code",
   "execution_count": 19,
   "id": "14658cbd",
   "metadata": {},
   "outputs": [
    {
     "data": {
      "text/plain": [
       "False"
      ]
     },
     "execution_count": 19,
     "metadata": {},
     "output_type": "execute_result"
    }
   ],
   "source": [
    "string = \"apple\"\n",
    "is_vowel(string)"
   ]
  },
  {
   "cell_type": "markdown",
   "id": "26092d1b",
   "metadata": {},
   "source": [
    "2. Write a function named is_valid_username that accepts a string as input. A valid username starts with a lowercase letter, and only consists of lowercase letters, numbers, or the _ character. It should also be no longer than 32 characters. The function should return either True or False depending on whether the passed string is a valid username."
   ]
  },
  {
   "cell_type": "code",
   "execution_count": null,
   "id": "b5b77c6f",
   "metadata": {},
   "outputs": [],
   "source": [
    "def is_valid_1(string):\n",
    "    return bool(re.search(r'^[a-z]\\w',string))"
   ]
  },
  {
   "cell_type": "code",
   "execution_count": null,
   "id": "1a02879e",
   "metadata": {},
   "outputs": [],
   "source": []
  },
  {
   "cell_type": "code",
   "execution_count": 24,
   "id": "f336657f",
   "metadata": {},
   "outputs": [
    {
     "data": {
      "text/plain": [
       "True"
      ]
     },
     "execution_count": 24,
     "metadata": {},
     "output_type": "execute_result"
    }
   ],
   "source": [
    "def is_valid_username(username):\n",
    "    pattern = r'^[a-z][a-z0-9_]{0,31}$'\n",
    "    return bool(re.match(pattern, username))\n",
    "\n",
    "username = r\"keila_1234\"\n",
    "\n",
    "is_valid_username(username)"
   ]
  },
  {
   "cell_type": "markdown",
   "id": "5a0559af",
   "metadata": {},
   "source": [
    "3. Write a regular expression to capture phone numbers. It should match all of the following:"
   ]
  },
  {
   "cell_type": "code",
   "execution_count": 39,
   "id": "15212632",
   "metadata": {},
   "outputs": [
    {
     "name": "stdout",
     "output_type": "stream",
     "text": [
      "['(210) 867 5309']\n",
      "['+1 210.867.5309']\n",
      "['867-5309']\n",
      "['210-867-5309']\n"
     ]
    }
   ],
   "source": [
    "numbers = [\"(210) 867 5309\",\n",
    "\"+1 210.867.5309\",\n",
    "\"867-5309\",\n",
    "\"210-867-5309\"]\n",
    "\n",
    "for number in numbers:\n",
    "    print(re.findall(r\".+\\d+.?.\\d+.\\d+$\", number))"
   ]
  },
  {
   "cell_type": "code",
   "execution_count": 28,
   "id": "690bf9e8",
   "metadata": {},
   "outputs": [
    {
     "name": "stdout",
     "output_type": "stream",
     "text": [
      "['(210) 867 5309', '+1 210.867.5309', '09\\n210-867-5309']\n"
     ]
    }
   ],
   "source": [
    "import re\n",
    "\n",
    "phone_numbers = '''(210) 867 5309\n",
    "+1 210.867.5309\n",
    "867-5309\n",
    "210-867-5309'''\n",
    "\n",
    "pattern = r'\\+?\\d{0,2}[-.\\s]?\\(?\\d{3}\\)?[-.\\s]?\\d{3}[-.\\s]?\\d{4}'\n",
    "\n",
    "matches = re.findall(pattern, phone_numbers)\n",
    "print(matches)\n"
   ]
  },
  {
   "cell_type": "markdown",
   "id": "e4fe0dad",
   "metadata": {},
   "source": [
    "4. Use regular expressions to convert the dates below to the standardized year-month-day format"
   ]
  },
  {
   "cell_type": "code",
   "execution_count": 41,
   "id": "ac4d2257",
   "metadata": {},
   "outputs": [],
   "source": [
    "dates = [\n",
    "    \"02/04/19\",\n",
    "    \"02/05/19\",\n",
    "    \"02/06/19\",\n",
    "    \"02/07/19\",\n",
    "    \"02/08/19\",\n",
    "    \"02/09/19\",\n",
    "    \"02/10/19\"\n",
    "]\n"
   ]
  },
  {
   "cell_type": "code",
   "execution_count": 51,
   "id": "9d0ff8f3",
   "metadata": {},
   "outputs": [
    {
     "name": "stdout",
     "output_type": "stream",
     "text": [
      "2019-02-04\n",
      "2019-02-05\n",
      "2019-02-06\n",
      "2019-02-07\n",
      "2019-02-08\n",
      "2019-02-09\n",
      "2019-02-10\n"
     ]
    }
   ],
   "source": [
    "regexp = r'(\\d{2})/(\\d{2})/(\\d{2})'\n",
    "for date in dates:\n",
    "#     print(re.findall(regexp, date))\n",
    "    print(re.sub(regexp, r\"20\\3-\\1-\\2\", date))"
   ]
  },
  {
   "cell_type": "code",
   "execution_count": 256,
   "id": "0687cbe0",
   "metadata": {},
   "outputs": [
    {
     "name": "stdout",
     "output_type": "stream",
     "text": [
      "['2019-02-04', '2019-02-05', '2019-02-06', '2019-02-07', '2019-02-08', '2019-02-09', '2019-02-10']\n"
     ]
    }
   ],
   "source": [
    "dates = [\n",
    "    \"02/04/19\",\n",
    "    \"02/05/19\",\n",
    "    \"02/06/19\",\n",
    "    \"02/07/19\",\n",
    "    \"02/08/19\",\n",
    "    \"02/09/19\",\n",
    "    \"02/10/19\"\n",
    "]\n",
    "pattern = r'(\\d{2})/(\\d{2})/(\\d{2})'\n",
    "replacement = r'20\\3-\\1-\\2'\n",
    "\n",
    "formatted_dates = [re.sub(pattern, replacement, date) for date in dates]\n",
    "print(formatted_dates)"
   ]
  },
  {
   "cell_type": "markdown",
   "id": "1601b57d",
   "metadata": {},
   "source": [
    "5. Write a regex to extract the various parts of these logfile lines:"
   ]
  },
  {
   "cell_type": "code",
   "execution_count": 62,
   "id": "9d8217ed",
   "metadata": {},
   "outputs": [],
   "source": [
    "logs = [\n",
    "    'GET /api/v1/sales?page=86 [16/Apr/2019:193452+0000] HTTP/1.1 {200} 510348 \"python-requests/2.21.0\" 97.105.19.58',\n",
    "    'POST /users_accounts/file-upload [16/Apr/2019:193452+0000] HTTP/1.1 {201} 42 \"User-Agent: Mozilla/5.0 (X11; Fedora; Fedora; Linux x86_64) AppleWebKit/537.36 (KHTML, like Gecko) Chrome/73.0.3683.86 Safari/537.36\" 97.105.19.58',\n",
    "    'GET /api/v1/items?page=3 [16/Apr/2019:193453+0000] HTTP/1.1 {429} 3561 \"python-requests/2.21.0\" 97.105.19.58'\n",
    "]"
   ]
  },
  {
   "cell_type": "code",
   "execution_count": 70,
   "id": "20aa432a",
   "metadata": {},
   "outputs": [
    {
     "name": "stdout",
     "output_type": "stream",
     "text": [
      "[('GET', '/api/v1/sales?page=86', '16/Apr/2019:193452+0000', 'HTTP/1.1 {200}', '510348', '\"python-requests/2.21.0\"', '97.105.19.58')]\n",
      "[('POST', '/users_accounts/file-upload', '16/Apr/2019:193452+0000', 'HTTP/1.1 {201}', '42', '\"User-Agent: Mozilla/5.0 (X11; Fedora; Fedora; Linux x86_64) AppleWebKit/537.36 (KHTML, like Gecko) Chrome/73.0.3683.86 Safari/537.36\"', '97.105.19.58')]\n",
      "[('GET', '/api/v1/items?page=3', '16/Apr/2019:193453+0000', 'HTTP/1.1 {429}', '3561', '\"python-requests/2.21.0\"', '97.105.19.58')]\n"
     ]
    }
   ],
   "source": [
    "for log in logs:\n",
    "    print(re.findall(r'([A-Z]+)\\s(.+?)\\s\\[(.+)\\]\\s(.+?)\\s(\\d+)\\s(\".+\")\\s(.+)', log))"
   ]
  },
  {
   "cell_type": "code",
   "execution_count": 267,
   "id": "0d64d3d8",
   "metadata": {},
   "outputs": [
    {
     "name": "stdout",
     "output_type": "stream",
     "text": [
      "Method: GET\n",
      "Path: /api/v1/sales?page=86\n",
      "Timestamp: 16/Apr/2019:193452+0000\n",
      "Protocol: HTTP/1.1\n",
      "Status: 200\n",
      "Size: 510348\n",
      "User Agent: python-requests/2.21.0\n",
      "IP Address: 97.105.19.58\n",
      "\n",
      "Method: POST\n",
      "Path: /users_accounts/file-upload\n",
      "Timestamp: 16/Apr/2019:193452+0000\n",
      "Protocol: HTTP/1.1\n",
      "Status: 201\n",
      "Size: 42\n",
      "User Agent: User-Agent: Mozilla/5.0 (X11; Fedora; Fedora; Linux x86_64) AppleWebKit/537.36 (KHTML, like Gecko) Chrome/73.0.3683.86 Safari/537.36\n",
      "IP Address: 97.105.19.58\n",
      "\n",
      "Method: GET\n",
      "Path: /api/v1/items?page=3\n",
      "Timestamp: 16/Apr/2019:193453+0000\n",
      "Protocol: HTTP/1.1\n",
      "Status: 429\n",
      "Size: 3561\n",
      "User Agent: python-requests/2.21.0\n",
      "IP Address: 97.105.19.58\n",
      "\n"
     ]
    }
   ],
   "source": [
    "log = [\n",
    "    'GET /api/v1/sales?page=86 [16/Apr/2019:193452+0000] HTTP/1.1 {200} 510348 \"python-requests/2.21.0\" 97.105.19.58',\n",
    "    'POST /users_accounts/file-upload [16/Apr/2019:193452+0000] HTTP/1.1 {201} 42 \"User-Agent: Mozilla/5.0 (X11; Fedora; Fedora; Linux x86_64) AppleWebKit/537.36 (KHTML, like Gecko) Chrome/73.0.3683.86 Safari/537.36\" 97.105.19.58',\n",
    "    'GET /api/v1/items?page=3 [16/Apr/2019:193453+0000] HTTP/1.1 {429} 3561 \"python-requests/2.21.0\" 97.105.19.58'\n",
    "]\n",
    "\n",
    "pattern = r'^(\\w+) ([^ ]+) \\[(.+)\\] ([A-Z]+/\\d+\\.\\d+) {(\\d+)} (\\d+) \"(.+)\" (\\d+\\.\\d+\\.\\d+\\.\\d+)'\n",
    "\n",
    "for line in log:\n",
    "    match = re.match(pattern, line)\n",
    "    if match:\n",
    "        method = match.group(1)\n",
    "        path = match.group(2)\n",
    "        timestamp = match.group(3)\n",
    "        protocol = match.group(4)\n",
    "        status = match.group(5)\n",
    "        size = match.group(6)\n",
    "        user_agent = match.group(7)\n",
    "        ip_address = match.group(8)\n",
    "\n",
    "        print(\"Method:\", method)\n",
    "        print(\"Path:\", path)\n",
    "        print(\"Timestamp:\", timestamp)\n",
    "        print(\"Protocol:\", protocol)\n",
    "        print(\"Status:\", status)\n",
    "        print(\"Size:\", size)\n",
    "        print(\"User Agent:\", user_agent)\n",
    "        print(\"IP Address:\", ip_address)\n",
    "        print()\n",
    "    else:\n",
    "        print(\"No match found for line:\", line)\n"
   ]
  },
  {
   "cell_type": "code",
   "execution_count": null,
   "id": "008e046c",
   "metadata": {},
   "outputs": [],
   "source": []
  }
 ],
 "metadata": {
  "kernelspec": {
   "display_name": "Python 3 (ipykernel)",
   "language": "python",
   "name": "python3"
  },
  "language_info": {
   "codemirror_mode": {
    "name": "ipython",
    "version": 3
   },
   "file_extension": ".py",
   "mimetype": "text/x-python",
   "name": "python",
   "nbconvert_exporter": "python",
   "pygments_lexer": "ipython3",
   "version": "3.9.13"
  }
 },
 "nbformat": 4,
 "nbformat_minor": 5
}
